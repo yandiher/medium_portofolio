{
 "cells": [
  {
   "cell_type": "markdown",
   "id": "2a7c961e-087b-4acc-b670-6797479cfce4",
   "metadata": {},
   "source": [
    "# Portofolio: Market Basket Analysis - Maximize Sales by Understanding Customer Transaction Patterns"
   ]
  },
  {
   "cell_type": "markdown",
   "id": "9e4e8f25-b855-40f4-9451-2dcfab2f1b95",
   "metadata": {},
   "source": [
    "# Business Understanding"
   ]
  },
  {
   "cell_type": "markdown",
   "id": "9a0524ce-5e18-4868-a709-9d70dc3034af",
   "metadata": {},
   "source": [
    "## Introduction\n",
    "\n",
    "Seblak Prasmanan is a type of street food where customers can customize their meals by selecting from a variety of ingredients. The food categories include crisps, noodles, mushrooms, vegetables, and meats. The marketing team aims to develop cross-selling strategies to boost sales."
   ]
  },
  {
   "cell_type": "markdown",
   "id": "e5b7c2b9-a6ab-473f-8e0e-fc74be9e2602",
   "metadata": {},
   "source": [
    "## Objectives\n",
    "\n",
    "The objective of this project is to identify product bundles based on transaction frequency."
   ]
  },
  {
   "cell_type": "markdown",
   "id": "b57f8c37-e3a1-4a93-87a0-87f2d800e8dc",
   "metadata": {},
   "source": [
    "## Tools and Dataset Needed\n",
    "\n",
    "The tools required for this project are Python and its libraries, such as mlxtend, numpy, pandas, matplotlib, and seaborn. The dataset needed is a transaction record containing transaction IDs, transaction dates, product names, and quantities of sold products."
   ]
  },
  {
   "cell_type": "markdown",
   "id": "6aba199e-0557-439f-a608-33602246086b",
   "metadata": {},
   "source": [
    "## Methodology\n",
    "\n",
    "The algorithm used in this project is the apriori algorithm. The first step involves setting the minimum support threshold. Support is defined as the percentage of transactions in which a product appears.\n",
    "- In the first iteration, the support of all products is calculated. Products that meet the minimum support threshold are selected.\n",
    "- In the second iteration, for the selected products, the support of product pairs purchased together is calculated. Product pairs that meet the minimum support threshold are selected. These product pairs are called itemsets.\n",
    "- In the n-th iteration, the process follows the same rule as the second iteration. The iteration stops when no more n-product itemsets meet the minimum support threshold.\n",
    "\n",
    "Several metrics are considered, including support, confidence, and lift.\n",
    "- Support. As mentioned earlier, support is the frequency of an itemset appearing in the dataset.\n",
    "- Confidence. Confidence measures the likelihood that another product will be purchased if a certain product is purchased.\n",
    "- Lift. Lift is used to determine whether the co-occurrence of products is coincidental or not."
   ]
  },
  {
   "cell_type": "markdown",
   "id": "56f3994b-f6b5-4cbd-87f6-63332b0107c8",
   "metadata": {},
   "source": [
    "# Data Understanding"
   ]
  },
  {
   "cell_type": "markdown",
   "id": "7036b50f-5891-4d29-b5de-575e30217914",
   "metadata": {},
   "source": [
    "## Data Acquisition"
   ]
  },
  {
   "cell_type": "code",
   "execution_count": 1,
   "id": "89041653-860d-4903-ac5c-af2d8db917de",
   "metadata": {},
   "outputs": [],
   "source": [
    "import datetime as dt\n",
    "import numpy as np\n",
    "import pandas as pd\n",
    "import matplotlib.pyplot as plt\n",
    "import seaborn as sns"
   ]
  },
  {
   "cell_type": "code",
   "execution_count": 2,
   "id": "edd2e10f-cdda-41bb-b28d-232287f0e4fe",
   "metadata": {},
   "outputs": [],
   "source": [
    "dataset = pd.read_csv('data/seblak_transaksi.csv')"
   ]
  },
  {
   "cell_type": "code",
   "execution_count": 3,
   "id": "b69c19d0-9ecc-4d10-aaa5-cffd277530f0",
   "metadata": {},
   "outputs": [
    {
     "name": "stdout",
     "output_type": "stream",
     "text": [
      "   id_transaksi tanggal_transaksi   nama_makanan  jumlah\n",
      "0           897        2024-01-01       fishroll     2.0\n",
      "1           897        2024-01-01        chikuwa     2.0\n",
      "2           897        2024-01-01  dumpling_keju     1.0\n",
      "3           897        2024-01-01     crab_stick     3.0\n",
      "4           897        2024-01-01     bakso_ikan     1.0\n"
     ]
    }
   ],
   "source": [
    "print(dataset.head())"
   ]
  },
  {
   "cell_type": "markdown",
   "id": "73daa88b-23f4-4708-8b6c-8d4e60a7e6b6",
   "metadata": {},
   "source": [
    "## Data Profiling"
   ]
  },
  {
   "cell_type": "code",
   "execution_count": 4,
   "id": "31e63c38-78a8-4615-9192-0a8f168212a5",
   "metadata": {},
   "outputs": [
    {
     "name": "stdout",
     "output_type": "stream",
     "text": [
      "<class 'pandas.core.frame.DataFrame'>\n",
      "RangeIndex: 186549 entries, 0 to 186548\n",
      "Data columns (total 4 columns):\n",
      " #   Column             Non-Null Count   Dtype  \n",
      "---  ------             --------------   -----  \n",
      " 0   id_transaksi       186549 non-null  int64  \n",
      " 1   tanggal_transaksi  186549 non-null  object \n",
      " 2   nama_makanan       186549 non-null  object \n",
      " 3   jumlah             186549 non-null  float64\n",
      "dtypes: float64(1), int64(1), object(2)\n",
      "memory usage: 5.7+ MB\n"
     ]
    }
   ],
   "source": [
    "# dataset info\n",
    "dataset.info()"
   ]
  },
  {
   "cell_type": "code",
   "execution_count": 5,
   "id": "139e00ba-e68d-45a7-b83c-50319919debe",
   "metadata": {},
   "outputs": [
    {
     "data": {
      "text/plain": [
       "id_transaksi         0\n",
       "tanggal_transaksi    0\n",
       "nama_makanan         0\n",
       "jumlah               0\n",
       "dtype: int64"
      ]
     },
     "execution_count": 5,
     "metadata": {},
     "output_type": "execute_result"
    }
   ],
   "source": [
    "# missing values\n",
    "dataset.isnull().sum()"
   ]
  },
  {
   "cell_type": "code",
   "execution_count": 6,
   "id": "fbbd9ba3-9e34-4099-b398-3d8771ccef6d",
   "metadata": {},
   "outputs": [
    {
     "data": {
      "text/plain": [
       "np.int64(0)"
      ]
     },
     "execution_count": 6,
     "metadata": {},
     "output_type": "execute_result"
    }
   ],
   "source": [
    "# duplicated values\n",
    "dataset.duplicated().sum()"
   ]
  },
  {
   "cell_type": "code",
   "execution_count": 7,
   "id": "42a9ecfb-6ca1-4241-9738-fde2425043c4",
   "metadata": {},
   "outputs": [],
   "source": [
    "# correct wrong format\n",
    "dataset['tanggal_transaksi'] = pd.to_datetime(dataset['tanggal_transaksi'])\n",
    "dataset['jumlah'] = dataset['jumlah'].astype('float64').astype('int32')"
   ]
  },
  {
   "cell_type": "code",
   "execution_count": 8,
   "id": "6538bb44-876b-49a2-b142-e2420f36db2a",
   "metadata": {},
   "outputs": [
    {
     "name": "stdout",
     "output_type": "stream",
     "text": [
      "<class 'pandas.core.frame.DataFrame'>\n",
      "RangeIndex: 186549 entries, 0 to 186548\n",
      "Data columns (total 4 columns):\n",
      " #   Column             Non-Null Count   Dtype         \n",
      "---  ------             --------------   -----         \n",
      " 0   id_transaksi       186549 non-null  int64         \n",
      " 1   tanggal_transaksi  186549 non-null  datetime64[ns]\n",
      " 2   nama_makanan       186549 non-null  object        \n",
      " 3   jumlah             186549 non-null  int32         \n",
      "dtypes: datetime64[ns](1), int32(1), int64(1), object(1)\n",
      "memory usage: 5.0+ MB\n"
     ]
    }
   ],
   "source": [
    "dataset.info()"
   ]
  },
  {
   "cell_type": "markdown",
   "id": "285e0d54-2085-423d-8b23-d0f02935588b",
   "metadata": {},
   "source": [
    "## Descriptive Statistics"
   ]
  },
  {
   "cell_type": "code",
   "execution_count": 9,
   "id": "be3b0c36-c563-4561-8b67-84ae3a464e09",
   "metadata": {},
   "outputs": [
    {
     "name": "stdout",
     "output_type": "stream",
     "text": [
      "        id_transaksi              tanggal_transaksi         jumlah\n",
      "count  186549.000000                         186549  186549.000000\n",
      "mean    10172.855116  2024-07-01 16:22:44.437225728       1.922524\n",
      "min         1.000000            2024-01-01 00:00:00       1.000000\n",
      "25%      5084.000000            2024-03-31 00:00:00       1.000000\n",
      "50%     10162.000000            2024-07-03 00:00:00       2.000000\n",
      "75%     15261.000000            2024-10-02 00:00:00       2.000000\n",
      "max     20356.000000            2024-12-31 00:00:00       3.000000\n",
      "std      5872.191954                            NaN       0.733457\n"
     ]
    }
   ],
   "source": [
    "print(dataset.describe())"
   ]
  },
  {
   "cell_type": "code",
   "execution_count": 10,
   "id": "245f98fd-8ee6-4835-9c66-1caa4ac06d8d",
   "metadata": {},
   "outputs": [
    {
     "name": "stdout",
     "output_type": "stream",
     "text": [
      "       nama_makanan\n",
      "count        186549\n",
      "unique           16\n",
      "top      bakso_ikan\n",
      "freq          14823\n"
     ]
    }
   ],
   "source": [
    "print(dataset.describe(include='object'))"
   ]
  },
  {
   "cell_type": "code",
   "execution_count": 11,
   "id": "2d39360a-a92b-4989-99e0-28ffab386701",
   "metadata": {},
   "outputs": [
    {
     "name": "stdout",
     "output_type": "stream",
     "text": [
      "The total transaction: 20356\n"
     ]
    }
   ],
   "source": [
    "transaction = len(dataset['id_transaksi'].value_counts())\n",
    "print('The total transaction:', transaction)"
   ]
  },
  {
   "cell_type": "markdown",
   "id": "138f2621-2c82-4c23-b450-a4e269c1c244",
   "metadata": {},
   "source": [
    "The `tanggal_transaksi` is the Indonesian word for transaction date. We can see the date range is from first of January 2024 until last of December 2024. We can visualize it using lineplot to see the trend over time. The `nama_makanan` is the Indonesian word for food name. It's categorical variable with 16 nominal objects. Barplot is better to visualize it. The `jumlah` is the Indonesian word for amount. It tells how many of product are sold for one transaction. Although it looks like numerical, but it is a categorical variable, they are ordnial objects. We will use barplot as well to visualize it."
   ]
  },
  {
   "cell_type": "code",
   "execution_count": 12,
   "id": "3be8b297-4019-4306-8da6-84c94c482f0e",
   "metadata": {},
   "outputs": [
    {
     "data": {
      "image/png": "[encoded data removed]",
      "text/plain": [
       "<Figure size 1600x500 with 1 Axes>"
      ]
     },
     "metadata": {},
     "output_type": "display_data"
    }
   ],
   "source": [
    "plt.figure(figsize=(16,5))\n",
    "sns.lineplot(dataset['tanggal_transaksi'].dt.month.value_counts().sort_index())\n",
    "plt.xticks(range(0,12+1))\n",
    "plt.ylim(0)\n",
    "plt.title('Amount of Transaction for each Month')\n",
    "plt.show()"
   ]
  },
  {
   "cell_type": "code",
   "execution_count": 13,
   "id": "4cedf0fd-7d78-4908-b2a7-ce9e64d37c8a",
   "metadata": {},
   "outputs": [
    {
     "data": {
      "image/png": "[encoded data removed]",
      "text/plain": [
       "<Figure size 1600x500 with 1 Axes>"
      ]
     },
     "metadata": {},
     "output_type": "display_data"
    }
   ],
   "source": [
    "plt.figure(figsize=(16,5))\n",
    "sns.barplot(dataset['jumlah'].value_counts(), orient='h')\n",
    "plt.xticks(range(0,90000,5000))\n",
    "plt.title('Preference of Buying Amount')\n",
    "plt.show()"
   ]
  },
  {
   "cell_type": "code",
   "execution_count": 14,
   "id": "408e52a0-fa7b-41d7-ad7d-66e6fee84897",
   "metadata": {},
   "outputs": [
    {
     "data": {
      "image/png": "[encoded data removed]",
      "text/plain": [
       "<Figure size 1600x500 with 1 Axes>"
      ]
     },
     "metadata": {},
     "output_type": "display_data"
    }
   ],
   "source": [
    "plt.figure(figsize=(16,5))\n",
    "sns.barplot(\n",
    "    data=dataset[['nama_makanan', 'jumlah']].groupby('nama_makanan').sum().reset_index().sort_values('jumlah', ascending=False),\n",
    "    y='nama_makanan', \n",
    "    x='jumlah',\n",
    "    orient='h')\n",
    "plt.xticks(range(0,30000,2500))\n",
    "plt.title('Total Sales per Product')\n",
    "plt.show()"
   ]
  },
  {
   "cell_type": "markdown",
   "id": "059d7121-f192-40c2-bf78-5f8c432f6bc8",
   "metadata": {},
   "source": [
    "# Data Preprocessing"
   ]
  },
  {
   "cell_type": "markdown",
   "id": "b213a5f9-75c9-416a-86ce-fb5934b0c5d1",
   "metadata": {},
   "source": [
    "Because we do not need the amount of transaction, we will use transaction id and product variables."
   ]
  },
  {
   "cell_type": "code",
   "execution_count": 15,
   "id": "8fc8c529-b0e3-4cc4-8b01-a6bbd1b78de1",
   "metadata": {},
   "outputs": [],
   "source": [
    "dataset_clean = dataset[['id_transaksi','nama_makanan','jumlah']].copy()"
   ]
  },
  {
   "cell_type": "code",
   "execution_count": 16,
   "id": "1e2a34a3-a951-4d4c-a8d2-d63bbee04a0c",
   "metadata": {},
   "outputs": [],
   "source": [
    "crosstab = pd.crosstab(index=dataset_clean['id_transaksi'], columns=dataset_clean['nama_makanan'])"
   ]
  },
  {
   "cell_type": "code",
   "execution_count": 17,
   "id": "68eaafb3-e6d0-46c2-943c-5b02e67095d4",
   "metadata": {},
   "outputs": [
    {
     "name": "stdout",
     "output_type": "stream",
     "text": [
      "id_transaksi    1   2   3   4   5   6   7   8   9   10  11  12  13  14  15\n",
      "nama_makanan                                                              \n",
      "bakso_ikan       1   1   1   0   1   1   1   1   1   1   0   1   1   1   0\n",
      "bakso_tahu       1   0   0   1   1   0   0   1   0   1   0   0   1   0   1\n",
      "batagor_kering   1   1   1   1   0   0   0   1   0   1   1   0   0   1   1\n",
      "chikuwa          1   0   1   1   1   0   0   0   1   1   1   1   1   1   0\n",
      "crab_stick       0   1   1   1   1   0   0   1   0   0   1   1   0   1   1\n",
      "dumpling_ayam    0   1   0   0   1   1   0   1   1   1   1   1   1   1   1\n",
      "dumpling_keju    1   0   1   1   0   1   1   0   0   1   1   1   1   1   1\n",
      "enoki            1   1   1   1   1   1   1   0   1   1   1   1   1   0   0\n",
      "fishroll         0   1   0   0   1   0   1   1   0   1   1   0   1   1   1\n",
      "flower_twister   0   1   0   1   1   0   0   0   0   1   1   1   1   0   1\n",
      "kerupuk_bawang   0   1   0   1   0   1   0   0   1   1   0   1   0   0   0\n",
      "kerupuk_bubur    0   1   1   1   0   0   0   1   0   0   1   1   1   1   0\n",
      "kerupuk_mawar    1   1   1   0   0   1   0   0   1   0   0   0   0   1   1\n",
      "lidah            1   0   1   1   1   1   0   1   0   1   0   0   0   1   1\n",
      "mie              1   0   0   1   0   0   1   1   1   0   0   1   0   0   0\n",
      "sosis            0   1   1   1   1   0   0   0   1   1   0   1   1   0   1\n"
     ]
    }
   ],
   "source": [
    "print(crosstab.head(15).T)"
   ]
  },
  {
   "cell_type": "code",
   "execution_count": 18,
   "id": "caf06fb9-5f07-4b50-b485-d92cd5be9029",
   "metadata": {},
   "outputs": [],
   "source": [
    "def boolean(x):\n",
    "    if x == 0:\n",
    "        return False\n",
    "    elif x == 1:\n",
    "        return True"
   ]
  },
  {
   "cell_type": "markdown",
   "id": "e8939de9-b83a-4e6d-ac5a-c73627ce80f1",
   "metadata": {},
   "source": [
    "The `boolean` function is to make binary number into boolean."
   ]
  },
  {
   "cell_type": "markdown",
   "id": "ae925a59-055b-4f4b-b6bf-93bdb339bcec",
   "metadata": {},
   "source": [
    "# Modeling"
   ]
  },
  {
   "cell_type": "code",
   "execution_count": 19,
   "id": "be9ea25c-2dbc-4f53-bc7a-15f9f557c369",
   "metadata": {},
   "outputs": [],
   "source": [
    "# library for association rule mining\n",
    "from mlxtend.frequent_patterns import apriori, association_rules"
   ]
  },
  {
   "cell_type": "code",
   "execution_count": 20,
   "id": "50d6b6c3-0b8f-4ff5-a5ea-9b67603f3b47",
   "metadata": {},
   "outputs": [
    {
     "name": "stdout",
     "output_type": "stream",
     "text": [
      "     support          itemsets\n",
      "0   0.728188      (bakso_ikan)\n",
      "3   0.708292         (chikuwa)\n",
      "6   0.649243   (dumpling_keju)\n",
      "7   0.648114           (enoki)\n",
      "11  0.629249   (kerupuk_bubur)\n",
      "15  0.614856           (sosis)\n",
      "5   0.587689   (dumpling_ayam)\n",
      "10  0.574671  (kerupuk_bawang)\n",
      "4   0.556396      (crab_stick)\n",
      "9   0.535567  (flower_twister)\n"
     ]
    }
   ],
   "source": [
    "sup = 0.4\n",
    "apriori_rule = apriori(crosstab.map(boolean), min_support=sup, use_colnames=True)\n",
    "print(apriori_rule.sort_values('support', ascending=False).head(10))"
   ]
  },
  {
   "cell_type": "markdown",
   "id": "a3766418-5eb9-422f-9966-26c86500430b",
   "metadata": {},
   "source": [
    "We see the highest support of itemsets is bakso ikan which is the most popular product, followed by chikuwa."
   ]
  },
  {
   "cell_type": "code",
   "execution_count": 21,
   "id": "45b3359f-e78a-411f-bc3c-b09672dc4586",
   "metadata": {},
   "outputs": [
    {
     "name": "stdout",
     "output_type": "stream",
     "text": [
      "        antecedents      consequents  support  confidence   lift\n",
      "0         (chikuwa)     (bakso_ikan)    0.516       0.729  1.001\n",
      "1      (bakso_ikan)        (chikuwa)    0.516       0.709  1.001\n",
      "2   (dumpling_keju)     (bakso_ikan)    0.474       0.730  1.003\n",
      "3      (bakso_ikan)  (dumpling_keju)    0.474       0.651  1.003\n",
      "4           (enoki)     (bakso_ikan)    0.471       0.727  0.998\n",
      "5      (bakso_ikan)          (enoki)    0.471       0.647  0.998\n",
      "6   (kerupuk_bubur)     (bakso_ikan)    0.462       0.734  1.008\n",
      "7      (bakso_ikan)  (kerupuk_bubur)    0.462       0.634  1.008\n",
      "11  (dumpling_keju)        (chikuwa)    0.460       0.709  1.001\n",
      "10        (chikuwa)  (dumpling_keju)    0.460       0.650  1.001\n",
      "12          (enoki)        (chikuwa)    0.459       0.708  1.000\n",
      "13        (chikuwa)          (enoki)    0.459       0.648  1.000\n",
      "8           (sosis)     (bakso_ikan)    0.452       0.735  1.009\n",
      "9      (bakso_ikan)          (sosis)    0.452       0.621  1.009\n"
     ]
    }
   ],
   "source": [
    "print(association_rules(\n",
    "    apriori_rule, \n",
    "    num_itemsets=len(crosstab), \n",
    "    metric='support', \n",
    "    min_threshold=0.45,\n",
    "    return_metrics=['support', 'confidence', 'lift']).sort_values(['support', 'confidence', 'lift'], ascending=False).round(3))"
   ]
  },
  {
   "cell_type": "markdown",
   "id": "ba6cf7ee-656a-4c43-b3a7-ddaf4d7f0674",
   "metadata": {},
   "source": [
    "# Insights"
   ]
  },
  {
   "cell_type": "markdown",
   "id": "265a769b-ab59-461e-932d-3dfeaa3f916e",
   "metadata": {},
   "source": [
    "## Interpretation and Reporting\n",
    "\n",
    "**Bakso ikan and chikuwa domination:**\n",
    "- Bakso ikan and chikuwa appear as the most frequent items bought together, with a support of 51.6%. This shows that both are the main products customers order.\n",
    "- High confidence shows that if one of them is in the basket, there is a high probability that the other item is also in the basket.\n",
    "\n",
    "**Strong Companion Items:**\n",
    "- Dumpling keju, enoki, kerupuk bubur, and sosis are also bought together with bakso ikan and chikuwa, showing customer preferences in choosing other toppings.\n",
    "- High confidence for the items to bakso ikan (consequent) shows that bakso ikan is the most bought item and other items are companion items.\n",
    "\n",
    "**Lift Ratio Close to 1** shows that items are bought independently but are still often bought together. This indicates that the popularity of the items is quite even."
   ]
  },
  {
   "cell_type": "markdown",
   "id": "886e0a3f-c7ca-40ac-ba04-14d89fe46fe0",
   "metadata": {},
   "source": [
    "## Action\n",
    "\n",
    "**Optimal Bundling Strategy**\n",
    "- Create a variety of packages that combine bakso ikan and chikuwa with popular companion items.\n",
    "- For example, a frugal package (bakso ikan, chikuwa, dumpling keju, enoki, and kerupuk bubur).\n",
    "- And offer the packages with an interesting price rather than items bought separately.\n",
    "\n",
    "**Strategic Placement of Toppings**\n",
    "- Arrange the topping display in such a way that bakso ikan and chikuwa are in the most prominent position.\n",
    "- Place companion items around them to make it easier for customers to take them.\n",
    "- Give labels for bakso ikan and chikuwa, like \"matched pair\" or \"favorite toppings.\"\n",
    "\n",
    "**Targeted Promotion**\n",
    "- Make promotions for companion items, like \"add enoki for only Rp2000.\"\n",
    "- Offer one topping extra for free if you buy all toppings or a minimum of Rp35000.\n",
    "- Give a loyalty program, like one free complete package after getting 10 visit stamps."
   ]
  },
  {
   "cell_type": "markdown",
   "id": "b423b67d-63ab-48a6-b749-43d885c63c70",
   "metadata": {},
   "source": [
    "# Further Analysis\n",
    "\n",
    "- Do clustering analysis to segment customers based on their characteristics.\n",
    "- Conduct causal impact analysis to forecast the sales if the marketing team don't apply the insights market basket analysis.\n",
    "- Perform regression analysis to predict sales for next couple of months."
   ]
  }
 ],
 "metadata": {
  "kernelspec": {
   "display_name": "Python 3 (ipykernel)",
   "language": "python",
   "name": "python3"
  },
  "language_info": {
   "codemirror_mode": {
    "name": "ipython",
    "version": 3
   },
   "file_extension": ".py",
   "mimetype": "text/x-python",
   "name": "python",
   "nbconvert_exporter": "python",
   "pygments_lexer": "ipython3",
   "version": "3.11.2"
  }
 },
 "nbformat": 4,
 "nbformat_minor": 5
}
