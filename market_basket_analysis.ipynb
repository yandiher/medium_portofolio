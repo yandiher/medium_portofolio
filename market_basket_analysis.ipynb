{
 "cells": [
  {
   "cell_type": "markdown",
   "id": "2a7c961e-087b-4acc-b670-6797479cfce4",
   "metadata": {},
   "source": [
    "# Portofolio:"
   ]
  },
  {
   "cell_type": "markdown",
   "id": "9e4e8f25-b855-40f4-9451-2dcfab2f1b95",
   "metadata": {},
   "source": [
    "## Business Understanding"
   ]
  },
  {
   "cell_type": "markdown",
   "id": "9a0524ce-5e18-4868-a709-9d70dc3034af",
   "metadata": {},
   "source": [
    "### Introduction"
   ]
  },
  {
   "cell_type": "code",
   "execution_count": null,
   "id": "28f706b2-ec50-41f9-9112-576761665c9b",
   "metadata": {},
   "outputs": [],
   "source": []
  },
  {
   "cell_type": "code",
   "execution_count": null,
   "id": "566b31dc-a0a7-43fd-8412-0e164a67c82e",
   "metadata": {},
   "outputs": [],
   "source": []
  },
  {
   "cell_type": "markdown",
   "id": "e5b7c2b9-a6ab-473f-8e0e-fc74be9e2602",
   "metadata": {},
   "source": [
    "### Objectives"
   ]
  },
  {
   "cell_type": "code",
   "execution_count": null,
   "id": "6063a4db-4add-460c-bce3-76b4fc247ade",
   "metadata": {},
   "outputs": [],
   "source": []
  },
  {
   "cell_type": "code",
   "execution_count": null,
   "id": "3da77c0d-9c67-449c-9aa6-367802dc72ad",
   "metadata": {},
   "outputs": [],
   "source": []
  },
  {
   "cell_type": "markdown",
   "id": "b57f8c37-e3a1-4a93-87a0-87f2d800e8dc",
   "metadata": {},
   "source": [
    "### Tools and Dataset Needed"
   ]
  },
  {
   "cell_type": "code",
   "execution_count": null,
   "id": "7a15506d-5e42-4dda-9d82-d0d70b83d9af",
   "metadata": {},
   "outputs": [],
   "source": []
  },
  {
   "cell_type": "code",
   "execution_count": null,
   "id": "630c270a-b89b-4489-bacb-13c6cee0e349",
   "metadata": {},
   "outputs": [],
   "source": []
  },
  {
   "cell_type": "markdown",
   "id": "6aba199e-0557-439f-a608-33602246086b",
   "metadata": {},
   "source": [
    "### Methodology"
   ]
  },
  {
   "cell_type": "code",
   "execution_count": null,
   "id": "4d5bf48d-6c2b-456e-8b37-a186af734b60",
   "metadata": {},
   "outputs": [],
   "source": []
  },
  {
   "cell_type": "code",
   "execution_count": null,
   "id": "87b5ebe4-8bb7-4192-a0b3-74e287c2e499",
   "metadata": {},
   "outputs": [],
   "source": []
  },
  {
   "cell_type": "markdown",
   "id": "56f3994b-f6b5-4cbd-87f6-63332b0107c8",
   "metadata": {},
   "source": [
    "## Data Understanding"
   ]
  },
  {
   "cell_type": "markdown",
   "id": "7036b50f-5891-4d29-b5de-575e30217914",
   "metadata": {},
   "source": [
    "### Data Acquisition"
   ]
  },
  {
   "cell_type": "code",
   "execution_count": 1,
   "id": "89041653-860d-4903-ac5c-af2d8db917de",
   "metadata": {},
   "outputs": [],
   "source": [
    "import datetime as dt\n",
    "import numpy as np\n",
    "import pandas as pd\n",
    "import matplotlib.pyplot as plt\n",
    "import seaborn as sns"
   ]
  },
  {
   "cell_type": "code",
   "execution_count": 2,
   "id": "edd2e10f-cdda-41bb-b28d-232287f0e4fe",
   "metadata": {},
   "outputs": [],
   "source": [
    "dataset = pd.read_csv('data/seblak_transaksi.csv')"
   ]
  },
  {
   "cell_type": "markdown",
   "id": "73daa88b-23f4-4708-8b6c-8d4e60a7e6b6",
   "metadata": {},
   "source": [
    "### Data Profiling"
   ]
  },
  {
   "cell_type": "code",
   "execution_count": 3,
   "id": "31e63c38-78a8-4615-9192-0a8f168212a5",
   "metadata": {},
   "outputs": [
    {
     "name": "stdout",
     "output_type": "stream",
     "text": [
      "<class 'pandas.core.frame.DataFrame'>\n",
      "RangeIndex: 186549 entries, 0 to 186548\n",
      "Data columns (total 4 columns):\n",
      " #   Column             Non-Null Count   Dtype  \n",
      "---  ------             --------------   -----  \n",
      " 0   id_transaksi       186549 non-null  int64  \n",
      " 1   tanggal_transaksi  186549 non-null  object \n",
      " 2   nama_makanan       186549 non-null  object \n",
      " 3   jumlah             186549 non-null  float64\n",
      "dtypes: float64(1), int64(1), object(2)\n",
      "memory usage: 5.7+ MB\n"
     ]
    }
   ],
   "source": [
    "# dataset info\n",
    "dataset.info()"
   ]
  },
  {
   "cell_type": "code",
   "execution_count": 4,
   "id": "139e00ba-e68d-45a7-b83c-50319919debe",
   "metadata": {},
   "outputs": [
    {
     "data": {
      "text/plain": [
       "id_transaksi         0\n",
       "tanggal_transaksi    0\n",
       "nama_makanan         0\n",
       "jumlah               0\n",
       "dtype: int64"
      ]
     },
     "execution_count": 4,
     "metadata": {},
     "output_type": "execute_result"
    }
   ],
   "source": [
    "# missing values\n",
    "dataset.isnull().sum()"
   ]
  },
  {
   "cell_type": "code",
   "execution_count": 5,
   "id": "fbbd9ba3-9e34-4099-b398-3d8771ccef6d",
   "metadata": {},
   "outputs": [
    {
     "data": {
      "text/plain": [
       "np.int64(0)"
      ]
     },
     "execution_count": 5,
     "metadata": {},
     "output_type": "execute_result"
    }
   ],
   "source": [
    "# duplicated values\n",
    "dataset.duplicated().sum()"
   ]
  },
  {
   "cell_type": "code",
   "execution_count": 6,
   "id": "42a9ecfb-6ca1-4241-9738-fde2425043c4",
   "metadata": {},
   "outputs": [],
   "source": [
    "# correct wrong format\n",
    "dataset['tanggal_transaksi'] = pd.to_datetime(dataset['tanggal_transaksi'])"
   ]
  },
  {
   "cell_type": "code",
   "execution_count": 7,
   "id": "6538bb44-876b-49a2-b142-e2420f36db2a",
   "metadata": {},
   "outputs": [
    {
     "name": "stdout",
     "output_type": "stream",
     "text": [
      "<class 'pandas.core.frame.DataFrame'>\n",
      "RangeIndex: 186549 entries, 0 to 186548\n",
      "Data columns (total 4 columns):\n",
      " #   Column             Non-Null Count   Dtype         \n",
      "---  ------             --------------   -----         \n",
      " 0   id_transaksi       186549 non-null  int64         \n",
      " 1   tanggal_transaksi  186549 non-null  datetime64[ns]\n",
      " 2   nama_makanan       186549 non-null  object        \n",
      " 3   jumlah             186549 non-null  float64       \n",
      "dtypes: datetime64[ns](1), float64(1), int64(1), object(1)\n",
      "memory usage: 5.7+ MB\n"
     ]
    }
   ],
   "source": [
    "dataset.info()"
   ]
  },
  {
   "cell_type": "markdown",
   "id": "285e0d54-2085-423d-8b23-d0f02935588b",
   "metadata": {},
   "source": [
    "### Descriptive Statistics"
   ]
  },
  {
   "cell_type": "code",
   "execution_count": 8,
   "id": "be3b0c36-c563-4561-8b67-84ae3a464e09",
   "metadata": {},
   "outputs": [
    {
     "data": {
      "text/html": [
       "<div>\n",
       "<style scoped>\n",
       "    .dataframe tbody tr th:only-of-type {\n",
       "        vertical-align: middle;\n",
       "    }\n",
       "\n",
       "    .dataframe tbody tr th {\n",
       "        vertical-align: top;\n",
       "    }\n",
       "\n",
       "    .dataframe thead th {\n",
       "        text-align: right;\n",
       "    }\n",
       "</style>\n",
       "<table border=\"1\" class=\"dataframe\">\n",
       "  <thead>\n",
       "    <tr style=\"text-align: right;\">\n",
       "      <th></th>\n",
       "      <th>id_transaksi</th>\n",
       "      <th>tanggal_transaksi</th>\n",
       "      <th>nama_makanan</th>\n",
       "      <th>jumlah</th>\n",
       "    </tr>\n",
       "  </thead>\n",
       "  <tbody>\n",
       "    <tr>\n",
       "      <th>count</th>\n",
       "      <td>186549.000000</td>\n",
       "      <td>186549</td>\n",
       "      <td>186549</td>\n",
       "      <td>186549.000000</td>\n",
       "    </tr>\n",
       "    <tr>\n",
       "      <th>unique</th>\n",
       "      <td>NaN</td>\n",
       "      <td>NaN</td>\n",
       "      <td>16</td>\n",
       "      <td>NaN</td>\n",
       "    </tr>\n",
       "    <tr>\n",
       "      <th>top</th>\n",
       "      <td>NaN</td>\n",
       "      <td>NaN</td>\n",
       "      <td>bakso_ikan</td>\n",
       "      <td>NaN</td>\n",
       "    </tr>\n",
       "    <tr>\n",
       "      <th>freq</th>\n",
       "      <td>NaN</td>\n",
       "      <td>NaN</td>\n",
       "      <td>14823</td>\n",
       "      <td>NaN</td>\n",
       "    </tr>\n",
       "    <tr>\n",
       "      <th>mean</th>\n",
       "      <td>10172.855116</td>\n",
       "      <td>2024-07-01 16:22:44.437225728</td>\n",
       "      <td>NaN</td>\n",
       "      <td>1.922524</td>\n",
       "    </tr>\n",
       "    <tr>\n",
       "      <th>min</th>\n",
       "      <td>1.000000</td>\n",
       "      <td>2024-01-01 00:00:00</td>\n",
       "      <td>NaN</td>\n",
       "      <td>1.000000</td>\n",
       "    </tr>\n",
       "    <tr>\n",
       "      <th>25%</th>\n",
       "      <td>5084.000000</td>\n",
       "      <td>2024-03-31 00:00:00</td>\n",
       "      <td>NaN</td>\n",
       "      <td>1.000000</td>\n",
       "    </tr>\n",
       "    <tr>\n",
       "      <th>50%</th>\n",
       "      <td>10162.000000</td>\n",
       "      <td>2024-07-03 00:00:00</td>\n",
       "      <td>NaN</td>\n",
       "      <td>2.000000</td>\n",
       "    </tr>\n",
       "    <tr>\n",
       "      <th>75%</th>\n",
       "      <td>15261.000000</td>\n",
       "      <td>2024-10-02 00:00:00</td>\n",
       "      <td>NaN</td>\n",
       "      <td>2.000000</td>\n",
       "    </tr>\n",
       "    <tr>\n",
       "      <th>max</th>\n",
       "      <td>20356.000000</td>\n",
       "      <td>2024-12-31 00:00:00</td>\n",
       "      <td>NaN</td>\n",
       "      <td>3.000000</td>\n",
       "    </tr>\n",
       "    <tr>\n",
       "      <th>std</th>\n",
       "      <td>5872.191954</td>\n",
       "      <td>NaN</td>\n",
       "      <td>NaN</td>\n",
       "      <td>0.733457</td>\n",
       "    </tr>\n",
       "  </tbody>\n",
       "</table>\n",
       "</div>"
      ],
      "text/plain": [
       "         id_transaksi              tanggal_transaksi nama_makanan  \\\n",
       "count   186549.000000                         186549       186549   \n",
       "unique            NaN                            NaN           16   \n",
       "top               NaN                            NaN   bakso_ikan   \n",
       "freq              NaN                            NaN        14823   \n",
       "mean     10172.855116  2024-07-01 16:22:44.437225728          NaN   \n",
       "min          1.000000            2024-01-01 00:00:00          NaN   \n",
       "25%       5084.000000            2024-03-31 00:00:00          NaN   \n",
       "50%      10162.000000            2024-07-03 00:00:00          NaN   \n",
       "75%      15261.000000            2024-10-02 00:00:00          NaN   \n",
       "max      20356.000000            2024-12-31 00:00:00          NaN   \n",
       "std       5872.191954                            NaN          NaN   \n",
       "\n",
       "               jumlah  \n",
       "count   186549.000000  \n",
       "unique            NaN  \n",
       "top               NaN  \n",
       "freq              NaN  \n",
       "mean         1.922524  \n",
       "min          1.000000  \n",
       "25%          1.000000  \n",
       "50%          2.000000  \n",
       "75%          2.000000  \n",
       "max          3.000000  \n",
       "std          0.733457  "
      ]
     },
     "execution_count": 8,
     "metadata": {},
     "output_type": "execute_result"
    }
   ],
   "source": [
    "dataset.describe(include='all')"
   ]
  },
  {
   "cell_type": "code",
   "execution_count": 86,
   "id": "2d39360a-a92b-4989-99e0-28ffab386701",
   "metadata": {},
   "outputs": [
    {
     "name": "stdout",
     "output_type": "stream",
     "text": [
      "The total transaction: 20356\n"
     ]
    }
   ],
   "source": [
    "transaction = len(dataset['id_transaksi'].value_counts())\n",
    "print('The total transaction:', transaction)"
   ]
  },
  {
   "cell_type": "markdown",
   "id": "138f2621-2c82-4c23-b450-a4e269c1c244",
   "metadata": {},
   "source": [
    "The `tanggal_transaksi` is the Indonesian word for transaction date. We can see the date range is from first of January 2024 until last of December 2024. We can visualize it using lineplot to see the trend over time. The `nama_makanan` is the Indonesian word for food name. It's categorical variable with 16 nominal objects. Barplot is better to visualize it. The `jumlah` is the Indonesian word for amount. It tells how many of product are sold for one transaction. Although it looks like numerical, but it is a categorical variable, they are ordnial objects. We will use barplot as well to visualize it."
   ]
  },
  {
   "cell_type": "code",
   "execution_count": 11,
   "id": "3be8b297-4019-4306-8da6-84c94c482f0e",
   "metadata": {},
   "outputs": [
    {
     "data": {
      "image/png": "[encoded data removed]",
      "text/plain": [
       "<Figure size 1600x500 with 1 Axes>"
      ]
     },
     "metadata": {},
     "output_type": "display_data"
    }
   ],
   "source": [
    "plt.figure(figsize=(16,5))\n",
    "sns.lineplot(dataset['tanggal_transaksi'].dt.month.value_counts().sort_index())\n",
    "plt.xticks(range(0,12+1))\n",
    "plt.ylim(0)\n",
    "plt.title('Amount of Transaction for each Month')\n",
    "plt.show()"
   ]
  },
  {
   "cell_type": "code",
   "execution_count": 51,
   "id": "4cedf0fd-7d78-4908-b2a7-ce9e64d37c8a",
   "metadata": {},
   "outputs": [
    {
     "data": {
      "image/png": "[encoded data removed]",
      "text/plain": [
       "<Figure size 1600x500 with 1 Axes>"
      ]
     },
     "metadata": {},
     "output_type": "display_data"
    }
   ],
   "source": [
    "plt.figure(figsize=(16,5))\n",
    "sns.barplot(dataset['jumlah'].value_counts(), orient='h')\n",
    "plt.xticks(range(0,90000,5000))\n",
    "plt.title('Preference of Buying Amount')\n",
    "plt.show()"
   ]
  },
  {
   "cell_type": "code",
   "execution_count": 48,
   "id": "408e52a0-fa7b-41d7-ad7d-66e6fee84897",
   "metadata": {},
   "outputs": [
    {
     "data": {
      "image/png": "[encoded data removed]",
      "text/plain": [
       "<Figure size 1600x500 with 1 Axes>"
      ]
     },
     "metadata": {},
     "output_type": "display_data"
    }
   ],
   "source": [
    "plt.figure(figsize=(16,5))\n",
    "sns.barplot(\n",
    "    data=dataset[['nama_makanan', 'jumlah']].groupby('nama_makanan').sum().reset_index().sort_values('jumlah', ascending=False),\n",
    "    y='nama_makanan', \n",
    "    x='jumlah',\n",
    "    orient='h')\n",
    "plt.xticks(range(0,30000,2500))\n",
    "plt.title('Total Sales per Product')\n",
    "plt.show()"
   ]
  },
  {
   "cell_type": "markdown",
   "id": "059d7121-f192-40c2-bf78-5f8c432f6bc8",
   "metadata": {},
   "source": [
    "## Data Preprocessing"
   ]
  },
  {
   "cell_type": "markdown",
   "id": "b213a5f9-75c9-416a-86ce-fb5934b0c5d1",
   "metadata": {},
   "source": [
    "Because we do not need the amount of transaction, we will use transaction id and product variables."
   ]
  },
  {
   "cell_type": "code",
   "execution_count": 66,
   "id": "8fc8c529-b0e3-4cc4-8b01-a6bbd1b78de1",
   "metadata": {},
   "outputs": [],
   "source": [
    "dataset_clean = dataset[['id_transaksi','nama_makanan','jumlah']].copy()"
   ]
  },
  {
   "cell_type": "code",
   "execution_count": 72,
   "id": "1e2a34a3-a951-4d4c-a8d2-d63bbee04a0c",
   "metadata": {},
   "outputs": [],
   "source": [
    "crosstab = pd.crosstab(index=dataset_clean['id_transaksi'], columns=dataset_clean['nama_makanan'])"
   ]
  },
  {
   "cell_type": "code",
   "execution_count": 73,
   "id": "68eaafb3-e6d0-46c2-943c-5b02e67095d4",
   "metadata": {},
   "outputs": [
    {
     "name": "stdout",
     "output_type": "stream",
     "text": [
      "nama_makanan  bakso_ikan  bakso_tahu  batagor_kering  chikuwa  crab_stick  \\\n",
      "id_transaksi                                                                \n",
      "1                      1           1               1        1           0   \n",
      "2                      1           0               1        0           1   \n",
      "3                      1           0               1        1           1   \n",
      "4                      0           1               1        1           1   \n",
      "5                      1           1               0        1           1   \n",
      "\n",
      "nama_makanan  dumpling_ayam  dumpling_keju  enoki  fishroll  flower_twister  \\\n",
      "id_transaksi                                                                  \n",
      "1                         0              1      1         0               0   \n",
      "2                         1              0      1         1               1   \n",
      "3                         0              1      1         0               0   \n",
      "4                         0              1      1         0               1   \n",
      "5                         1              0      1         1               1   \n",
      "\n",
      "nama_makanan  kerupuk_bawang  kerupuk_bubur  kerupuk_mawar  lidah  mie  sosis  \n",
      "id_transaksi                                                                   \n",
      "1                          0              0              1      1    1      0  \n",
      "2                          1              1              1      0    0      1  \n",
      "3                          0              1              1      1    0      1  \n",
      "4                          1              1              0      1    1      1  \n",
      "5                          0              0              0      1    0      1  \n"
     ]
    }
   ],
   "source": [
    "print(crosstab.head())"
   ]
  },
  {
   "cell_type": "markdown",
   "id": "ae925a59-055b-4f4b-b6bf-93bdb339bcec",
   "metadata": {},
   "source": [
    "## Modeling"
   ]
  },
  {
   "cell_type": "code",
   "execution_count": 74,
   "id": "be9ea25c-2dbc-4f53-bc7a-15f9f557c369",
   "metadata": {},
   "outputs": [],
   "source": [
    "# library for association rule mining\n",
    "from mlxtend.frequent_patterns import apriori, association_rules"
   ]
  },
  {
   "cell_type": "code",
   "execution_count": 118,
   "id": "50d6b6c3-0b8f-4ff5-a5ea-9b67603f3b47",
   "metadata": {},
   "outputs": [],
   "source": [
    "apriori_rule = apriori(crosstab, min_support=0.1, use_colnames=True)"
   ]
  },
  {
   "cell_type": "code",
   "execution_count": 119,
   "id": "19014d74-0796-4b47-bbf1-13fe7a34b986",
   "metadata": {},
   "outputs": [
    {
     "data": {
      "text/html": [
       "<div>\n",
       "<style scoped>\n",
       "    .dataframe tbody tr th:only-of-type {\n",
       "        vertical-align: middle;\n",
       "    }\n",
       "\n",
       "    .dataframe tbody tr th {\n",
       "        vertical-align: top;\n",
       "    }\n",
       "\n",
       "    .dataframe thead th {\n",
       "        text-align: right;\n",
       "    }\n",
       "</style>\n",
       "<table border=\"1\" class=\"dataframe\">\n",
       "  <thead>\n",
       "    <tr style=\"text-align: right;\">\n",
       "      <th></th>\n",
       "      <th>support</th>\n",
       "      <th>itemsets</th>\n",
       "    </tr>\n",
       "  </thead>\n",
       "  <tbody>\n",
       "    <tr>\n",
       "      <th>0</th>\n",
       "      <td>0.728188</td>\n",
       "      <td>(bakso_ikan)</td>\n",
       "    </tr>\n",
       "    <tr>\n",
       "      <th>3</th>\n",
       "      <td>0.708292</td>\n",
       "      <td>(chikuwa)</td>\n",
       "    </tr>\n",
       "    <tr>\n",
       "      <th>6</th>\n",
       "      <td>0.649243</td>\n",
       "      <td>(dumpling_keju)</td>\n",
       "    </tr>\n",
       "    <tr>\n",
       "      <th>7</th>\n",
       "      <td>0.648114</td>\n",
       "      <td>(enoki)</td>\n",
       "    </tr>\n",
       "    <tr>\n",
       "      <th>11</th>\n",
       "      <td>0.629249</td>\n",
       "      <td>(kerupuk_bubur)</td>\n",
       "    </tr>\n",
       "  </tbody>\n",
       "</table>\n",
       "</div>"
      ],
      "text/plain": [
       "     support         itemsets\n",
       "0   0.728188     (bakso_ikan)\n",
       "3   0.708292        (chikuwa)\n",
       "6   0.649243  (dumpling_keju)\n",
       "7   0.648114          (enoki)\n",
       "11  0.629249  (kerupuk_bubur)"
      ]
     },
     "execution_count": 119,
     "metadata": {},
     "output_type": "execute_result"
    }
   ],
   "source": [
    "apriori_rule.sort_values('support', ascending=False).head()"
   ]
  },
  {
   "cell_type": "code",
   "execution_count": 123,
   "id": "45b3359f-e78a-411f-bc3c-b09672dc4586",
   "metadata": {},
   "outputs": [
    {
     "data": {
      "text/html": [
       "<div>\n",
       "<style scoped>\n",
       "    .dataframe tbody tr th:only-of-type {\n",
       "        vertical-align: middle;\n",
       "    }\n",
       "\n",
       "    .dataframe tbody tr th {\n",
       "        vertical-align: top;\n",
       "    }\n",
       "\n",
       "    .dataframe thead th {\n",
       "        text-align: right;\n",
       "    }\n",
       "</style>\n",
       "<table border=\"1\" class=\"dataframe\">\n",
       "  <thead>\n",
       "    <tr style=\"text-align: right;\">\n",
       "      <th></th>\n",
       "      <th>antecedents</th>\n",
       "      <th>consequents</th>\n",
       "      <th>antecedent support</th>\n",
       "      <th>consequent support</th>\n",
       "      <th>support</th>\n",
       "      <th>confidence</th>\n",
       "      <th>lift</th>\n",
       "      <th>representativity</th>\n",
       "      <th>leverage</th>\n",
       "      <th>conviction</th>\n",
       "      <th>zhangs_metric</th>\n",
       "      <th>jaccard</th>\n",
       "      <th>certainty</th>\n",
       "      <th>kulczynski</th>\n",
       "    </tr>\n",
       "  </thead>\n",
       "  <tbody>\n",
       "    <tr>\n",
       "      <th>0</th>\n",
       "      <td>(bakso_ikan)</td>\n",
       "      <td>(chikuwa)</td>\n",
       "      <td>0.728</td>\n",
       "      <td>0.708</td>\n",
       "      <td>0.516</td>\n",
       "      <td>0.709</td>\n",
       "      <td>1.001</td>\n",
       "      <td>1.0</td>\n",
       "      <td>0.0</td>\n",
       "      <td>1.002</td>\n",
       "      <td>0.002</td>\n",
       "      <td>0.561</td>\n",
       "      <td>0.002</td>\n",
       "      <td>0.719</td>\n",
       "    </tr>\n",
       "    <tr>\n",
       "      <th>1</th>\n",
       "      <td>(chikuwa)</td>\n",
       "      <td>(bakso_ikan)</td>\n",
       "      <td>0.708</td>\n",
       "      <td>0.728</td>\n",
       "      <td>0.516</td>\n",
       "      <td>0.729</td>\n",
       "      <td>1.001</td>\n",
       "      <td>1.0</td>\n",
       "      <td>0.0</td>\n",
       "      <td>1.002</td>\n",
       "      <td>0.002</td>\n",
       "      <td>0.561</td>\n",
       "      <td>0.002</td>\n",
       "      <td>0.719</td>\n",
       "    </tr>\n",
       "  </tbody>\n",
       "</table>\n",
       "</div>"
      ],
      "text/plain": [
       "    antecedents   consequents  antecedent support  consequent support  \\\n",
       "0  (bakso_ikan)     (chikuwa)               0.728               0.708   \n",
       "1     (chikuwa)  (bakso_ikan)               0.708               0.728   \n",
       "\n",
       "   support  confidence   lift  representativity  leverage  conviction  \\\n",
       "0    0.516       0.709  1.001               1.0       0.0       1.002   \n",
       "1    0.516       0.729  1.001               1.0       0.0       1.002   \n",
       "\n",
       "   zhangs_metric  jaccard  certainty  kulczynski  \n",
       "0          0.002    0.561      0.002       0.719  \n",
       "1          0.002    0.561      0.002       0.719  "
      ]
     },
     "execution_count": 123,
     "metadata": {},
     "output_type": "execute_result"
    }
   ],
   "source": [
    "association_rules(apriori_rule, num_itemsets=len(crosstab), metric='support', min_threshold=0.5).sort_values('lift', ascending=False).round(3)"
   ]
  },
  {
   "cell_type": "markdown",
   "id": "ba6cf7ee-656a-4c43-b3a7-ddaf4d7f0674",
   "metadata": {},
   "source": [
    "## Insights"
   ]
  },
  {
   "cell_type": "markdown",
   "id": "265a769b-ab59-461e-932d-3dfeaa3f916e",
   "metadata": {},
   "source": [
    "### Interpretation and Reporting"
   ]
  },
  {
   "cell_type": "code",
   "execution_count": null,
   "id": "36317cd0-aa71-40e7-a1dc-bdb871838c5d",
   "metadata": {},
   "outputs": [],
   "source": []
  },
  {
   "cell_type": "code",
   "execution_count": null,
   "id": "22a17b0f-3991-43d3-825c-71fb0490a626",
   "metadata": {},
   "outputs": [],
   "source": []
  },
  {
   "cell_type": "markdown",
   "id": "886e0a3f-c7ca-40ac-ba04-14d89fe46fe0",
   "metadata": {},
   "source": [
    "### Action"
   ]
  },
  {
   "cell_type": "code",
   "execution_count": null,
   "id": "44e83f85-e48a-4a86-9a84-2edc163191da",
   "metadata": {},
   "outputs": [],
   "source": []
  },
  {
   "cell_type": "code",
   "execution_count": null,
   "id": "bd4f585d-3eca-487e-9774-d36ec50599c2",
   "metadata": {},
   "outputs": [],
   "source": []
  },
  {
   "cell_type": "markdown",
   "id": "b423b67d-63ab-48a6-b749-43d885c63c70",
   "metadata": {},
   "source": [
    "### Further Analysis"
   ]
  },
  {
   "cell_type": "code",
   "execution_count": null,
   "id": "9c82b6f6-2687-410b-bb6d-86ef881f0ef4",
   "metadata": {},
   "outputs": [],
   "source": []
  },
  {
   "cell_type": "code",
   "execution_count": null,
   "id": "20ad63d7-334e-40a0-b2c2-908ebb98383d",
   "metadata": {},
   "outputs": [],
   "source": []
  }
 ],
 "metadata": {
  "kernelspec": {
   "display_name": "Python 3 (ipykernel)",
   "language": "python",
   "name": "python3"
  },
  "language_info": {
   "codemirror_mode": {
    "name": "ipython",
    "version": 3
   },
   "file_extension": ".py",
   "mimetype": "text/x-python",
   "name": "python",
   "nbconvert_exporter": "python",
   "pygments_lexer": "ipython3",
   "version": "3.11.2"
  }
 },
 "nbformat": 4,
 "nbformat_minor": 5
}
