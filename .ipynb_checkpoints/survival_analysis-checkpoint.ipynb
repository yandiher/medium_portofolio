{
 "cells": [
  {
   "cell_type": "markdown",
   "id": "2a7c961e-087b-4acc-b670-6797479cfce4",
   "metadata": {},
   "source": [
    "# Portofolio:"
   ]
  },
  {
   "cell_type": "markdown",
   "id": "9e4e8f25-b855-40f4-9451-2dcfab2f1b95",
   "metadata": {},
   "source": [
    "## Business Understanding"
   ]
  },
  {
   "cell_type": "markdown",
   "id": "9a0524ce-5e18-4868-a709-9d70dc3034af",
   "metadata": {},
   "source": [
    "### Introduction\n",
    "\n",
    "A fitness center offers comprehensive facilities and training programs to help customers achieve their fitness goals. Currently, they are running an attractive promotional program by offering a 99% discount on the first month's membership fee for new sign-ups. The aims of this coupon program is to:\n",
    "- increase member growth\n",
    "- increase long term profit\n",
    "- build a loyal customer\n",
    "\n",
    "The marketing team wants to know customer lifetime value by understanding how long customers will stop visiting the fitness center using the survival analysis methodology. Churn is a tricky case. Although we say the customer is a churn already, there is still a chance to win back even old customers. Our marketing team definition for churn is if customers don't visit the fitness center in last six months, they assume that the customers are churn. It means, churn is for customers that don't visit for more than six months and not churn is for customers that still visit in last six months.\n",
    "\n",
    "Information we need to know:\n",
    "- subscription price: IDR 199.000\n",
    "- gross profit: 55%\n",
    "- first month discount: 99%"
   ]
  },
  {
   "cell_type": "markdown",
   "id": "e5b7c2b9-a6ab-473f-8e0e-fc74be9e2602",
   "metadata": {},
   "source": [
    "### Objectives\n",
    "\n",
    "The aim of this project is to understand:\n",
    "- the customers behaviour after signup and using their 99% discount on the first month membership,\n",
    "- how long customer will survive from churn,\n",
    "- how much is the customer acquisition cost without ads,\n",
    "- what is the customer lifetime value, and\n",
    "- what factors influence the duration of survival."
   ]
  },
  {
   "cell_type": "markdown",
   "id": "b57f8c37-e3a1-4a93-87a0-87f2d800e8dc",
   "metadata": {},
   "source": [
    "### Tools and Dataset Needed\n",
    "\n",
    "The technologies used for this project is Python with its library such as numpy, pandas, matplotlib, seaborn, and lifeliness. The dataset contains few variables like customer_id, first_visit, last_visit, and age."
   ]
  },
  {
   "cell_type": "markdown",
   "id": "6aba199e-0557-439f-a608-33602246086b",
   "metadata": {},
   "source": [
    "### Methodology\n",
    "\n",
    "The survival analysis has some steps to do. All variables we need are time to event where this variable explains how long until the event occurs, target variable where this variable explains whether or not the event occurs until the study ends (it's called right cencored), and other variables that has correlation with the target.\n",
    "\n",
    "We'll make churn variable by using if logic. 1 if last_visit < (query_time - six months) else 0 where 1 is churn and 0 is not churn.\n",
    "\n",
    "the CLTV formula:\n",
    "\n",
    "$$CLTV = {Total \\ GP \\over Customers}$$\n",
    "\n",
    "$$Total \\ GP = {Transaction * Price * Gross \\ Profit * Average \\ Lifetime} $$\n",
    "\n",
    "Where:\n",
    "- Transaction means customers pays the bill (counted per each month)\n",
    "- Price is the subscription price\n",
    "- Gross Profit is a profit after all expenses\n",
    "- Average Lifetime is the average duration before they do churn."
   ]
  },
  {
   "cell_type": "code",
   "execution_count": 27,
   "id": "4d5bf48d-6c2b-456e-8b37-a186af734b60",
   "metadata": {},
   "outputs": [
    {
     "data": {
      "text/plain": [
       "766150.0000000001"
      ]
     },
     "execution_count": 27,
     "metadata": {},
     "output_type": "execute_result"
    }
   ],
   "source": [
    "7*199000*0.55"
   ]
  },
  {
   "cell_type": "code",
   "execution_count": null,
   "id": "87b5ebe4-8bb7-4192-a0b3-74e287c2e499",
   "metadata": {},
   "outputs": [],
   "source": []
  },
  {
   "cell_type": "markdown",
   "id": "56f3994b-f6b5-4cbd-87f6-63332b0107c8",
   "metadata": {},
   "source": [
    "## Data Understanding"
   ]
  },
  {
   "cell_type": "markdown",
   "id": "7036b50f-5891-4d29-b5de-575e30217914",
   "metadata": {},
   "source": [
    "### Data Acquisition"
   ]
  },
  {
   "cell_type": "code",
   "execution_count": 1,
   "id": "89041653-860d-4903-ac5c-af2d8db917de",
   "metadata": {},
   "outputs": [],
   "source": [
    "import datetime as dt\n",
    "import numpy as np\n",
    "import pandas as pd\n",
    "import matplotlib.pyplot as plt\n",
    "import seaborn as sns\n",
    "import lifelines"
   ]
  },
  {
   "cell_type": "code",
   "execution_count": 2,
   "id": "edd2e10f-cdda-41bb-b28d-232287f0e4fe",
   "metadata": {},
   "outputs": [
    {
     "data": {
      "text/html": [
       "<div>\n",
       "<style scoped>\n",
       "    .dataframe tbody tr th:only-of-type {\n",
       "        vertical-align: middle;\n",
       "    }\n",
       "\n",
       "    .dataframe tbody tr th {\n",
       "        vertical-align: top;\n",
       "    }\n",
       "\n",
       "    .dataframe thead th {\n",
       "        text-align: right;\n",
       "    }\n",
       "</style>\n",
       "<table border=\"1\" class=\"dataframe\">\n",
       "  <thead>\n",
       "    <tr style=\"text-align: right;\">\n",
       "      <th></th>\n",
       "      <th>customer_id</th>\n",
       "      <th>register_date</th>\n",
       "      <th>last_visit</th>\n",
       "      <th>age</th>\n",
       "    </tr>\n",
       "  </thead>\n",
       "  <tbody>\n",
       "    <tr>\n",
       "      <th>0</th>\n",
       "      <td>1001</td>\n",
       "      <td>2023-09-29</td>\n",
       "      <td>2023-10-21</td>\n",
       "      <td>27</td>\n",
       "    </tr>\n",
       "    <tr>\n",
       "      <th>1</th>\n",
       "      <td>1007</td>\n",
       "      <td>2023-11-28</td>\n",
       "      <td>2023-12-19</td>\n",
       "      <td>35</td>\n",
       "    </tr>\n",
       "    <tr>\n",
       "      <th>2</th>\n",
       "      <td>1011</td>\n",
       "      <td>2024-02-25</td>\n",
       "      <td>2024-03-20</td>\n",
       "      <td>28</td>\n",
       "    </tr>\n",
       "    <tr>\n",
       "      <th>3</th>\n",
       "      <td>1012</td>\n",
       "      <td>2023-07-30</td>\n",
       "      <td>2023-08-23</td>\n",
       "      <td>22</td>\n",
       "    </tr>\n",
       "    <tr>\n",
       "      <th>4</th>\n",
       "      <td>1033</td>\n",
       "      <td>2023-10-03</td>\n",
       "      <td>2023-10-22</td>\n",
       "      <td>29</td>\n",
       "    </tr>\n",
       "  </tbody>\n",
       "</table>\n",
       "</div>"
      ],
      "text/plain": [
       "   customer_id register_date  last_visit  age\n",
       "0         1001    2023-09-29  2023-10-21   27\n",
       "1         1007    2023-11-28  2023-12-19   35\n",
       "2         1011    2024-02-25  2024-03-20   28\n",
       "3         1012    2023-07-30  2023-08-23   22\n",
       "4         1033    2023-10-03  2023-10-22   29"
      ]
     },
     "execution_count": 2,
     "metadata": {},
     "output_type": "execute_result"
    }
   ],
   "source": [
    "dataset = pd.read_csv('data/fitness_10-2024.csv')\n",
    "dataset.head()"
   ]
  },
  {
   "cell_type": "markdown",
   "id": "73daa88b-23f4-4708-8b6c-8d4e60a7e6b6",
   "metadata": {},
   "source": [
    "### Data Profiling"
   ]
  },
  {
   "cell_type": "code",
   "execution_count": 3,
   "id": "31e63c38-78a8-4615-9192-0a8f168212a5",
   "metadata": {},
   "outputs": [
    {
     "name": "stdout",
     "output_type": "stream",
     "text": [
      "<class 'pandas.core.frame.DataFrame'>\n",
      "RangeIndex: 1476 entries, 0 to 1475\n",
      "Data columns (total 4 columns):\n",
      " #   Column         Non-Null Count  Dtype \n",
      "---  ------         --------------  ----- \n",
      " 0   customer_id    1476 non-null   int64 \n",
      " 1   register_date  1476 non-null   object\n",
      " 2   last_visit     1476 non-null   object\n",
      " 3   age            1476 non-null   int64 \n",
      "dtypes: int64(2), object(2)\n",
      "memory usage: 46.3+ KB\n"
     ]
    }
   ],
   "source": [
    "# dataset info\n",
    "dataset.info()"
   ]
  },
  {
   "cell_type": "markdown",
   "id": "d3749241-f9e1-4cce-ac86-0a113513d362",
   "metadata": {},
   "source": [
    "The register_date and last_visit are still object type, so we will correct it later."
   ]
  },
  {
   "cell_type": "code",
   "execution_count": 4,
   "id": "139e00ba-e68d-45a7-b83c-50319919debe",
   "metadata": {},
   "outputs": [
    {
     "data": {
      "text/plain": [
       "customer_id      0\n",
       "register_date    0\n",
       "last_visit       0\n",
       "age              0\n",
       "dtype: int64"
      ]
     },
     "execution_count": 4,
     "metadata": {},
     "output_type": "execute_result"
    }
   ],
   "source": [
    "# missing values\n",
    "dataset.isnull().sum()"
   ]
  },
  {
   "cell_type": "code",
   "execution_count": 5,
   "id": "fbbd9ba3-9e34-4099-b398-3d8771ccef6d",
   "metadata": {},
   "outputs": [
    {
     "data": {
      "text/plain": [
       "0"
      ]
     },
     "execution_count": 5,
     "metadata": {},
     "output_type": "execute_result"
    }
   ],
   "source": [
    "# duplicated values\n",
    "dataset.duplicated().sum()"
   ]
  },
  {
   "cell_type": "code",
   "execution_count": 6,
   "id": "42a9ecfb-6ca1-4241-9738-fde2425043c4",
   "metadata": {},
   "outputs": [],
   "source": [
    "# correct wrong format\n",
    "dataset['register_date'] = pd.to_datetime(dataset['register_date'])\n",
    "dataset['last_visit'] = pd.to_datetime(dataset['last_visit'])"
   ]
  },
  {
   "cell_type": "code",
   "execution_count": 7,
   "id": "17113f07-9b09-44c2-9f07-a5a17c9bcbc2",
   "metadata": {},
   "outputs": [
    {
     "name": "stdout",
     "output_type": "stream",
     "text": [
      "<class 'pandas.core.frame.DataFrame'>\n",
      "RangeIndex: 1476 entries, 0 to 1475\n",
      "Data columns (total 4 columns):\n",
      " #   Column         Non-Null Count  Dtype         \n",
      "---  ------         --------------  -----         \n",
      " 0   customer_id    1476 non-null   int64         \n",
      " 1   register_date  1476 non-null   datetime64[ns]\n",
      " 2   last_visit     1476 non-null   datetime64[ns]\n",
      " 3   age            1476 non-null   int64         \n",
      "dtypes: datetime64[ns](2), int64(2)\n",
      "memory usage: 46.3 KB\n"
     ]
    }
   ],
   "source": [
    "dataset.info()"
   ]
  },
  {
   "cell_type": "markdown",
   "id": "fc410ef4-c089-4963-986c-60eb940fdf56",
   "metadata": {},
   "source": [
    "Now we can see that the register_date and last_visit are already datetime type."
   ]
  },
  {
   "cell_type": "markdown",
   "id": "285e0d54-2085-423d-8b23-d0f02935588b",
   "metadata": {},
   "source": [
    "### Descriptive Statistics"
   ]
  },
  {
   "cell_type": "code",
   "execution_count": 8,
   "id": "63eb4a77-f1fb-4cae-83a3-a6089416d614",
   "metadata": {},
   "outputs": [
    {
     "data": {
      "text/plain": [
       "register_date\n",
       "2023-03-24    12\n",
       "2023-05-28    11\n",
       "2023-07-30    11\n",
       "2023-05-31    11\n",
       "2023-04-24    11\n",
       "              ..\n",
       "2023-05-29     1\n",
       "2024-01-09     1\n",
       "2023-01-17     1\n",
       "2023-10-24     1\n",
       "2023-01-03     1\n",
       "Name: count, Length: 418, dtype: int64"
      ]
     },
     "execution_count": 8,
     "metadata": {},
     "output_type": "execute_result"
    }
   ],
   "source": [
    "dataset['register_date'].value_counts()"
   ]
  },
  {
   "cell_type": "code",
   "execution_count": 9,
   "id": "8678ea9a-4424-4384-8011-b1539b22ebe4",
   "metadata": {},
   "outputs": [
    {
     "data": {
      "text/plain": [
       "last_visit\n",
       "2023-12-27    15\n",
       "2024-08-25     9\n",
       "2024-09-15     9\n",
       "2024-09-08     9\n",
       "2024-09-23     8\n",
       "              ..\n",
       "2023-08-18     1\n",
       "2024-03-09     1\n",
       "2023-09-28     1\n",
       "2024-01-15     1\n",
       "2024-04-29     1\n",
       "Name: count, Length: 416, dtype: int64"
      ]
     },
     "execution_count": 9,
     "metadata": {},
     "output_type": "execute_result"
    }
   ],
   "source": [
    "dataset['last_visit'].value_counts()"
   ]
  },
  {
   "cell_type": "code",
   "execution_count": 10,
   "id": "c6db60cd-3dad-4b39-b558-b99313b1447e",
   "metadata": {},
   "outputs": [
    {
     "data": {
      "text/html": [
       "<div>\n",
       "<style scoped>\n",
       "    .dataframe tbody tr th:only-of-type {\n",
       "        vertical-align: middle;\n",
       "    }\n",
       "\n",
       "    .dataframe tbody tr th {\n",
       "        vertical-align: top;\n",
       "    }\n",
       "\n",
       "    .dataframe thead th {\n",
       "        text-align: right;\n",
       "    }\n",
       "</style>\n",
       "<table border=\"1\" class=\"dataframe\">\n",
       "  <thead>\n",
       "    <tr style=\"text-align: right;\">\n",
       "      <th></th>\n",
       "      <th>register_date</th>\n",
       "      <th>last_visit</th>\n",
       "      <th>age</th>\n",
       "    </tr>\n",
       "  </thead>\n",
       "  <tbody>\n",
       "    <tr>\n",
       "      <th>count</th>\n",
       "      <td>1476</td>\n",
       "      <td>1476</td>\n",
       "      <td>1476.000</td>\n",
       "    </tr>\n",
       "    <tr>\n",
       "      <th>mean</th>\n",
       "      <td>2023-07-03 17:11:13.170732032</td>\n",
       "      <td>2024-03-05 01:28:46.829268224</td>\n",
       "      <td>31.498</td>\n",
       "    </tr>\n",
       "    <tr>\n",
       "      <th>min</th>\n",
       "      <td>2022-11-07 00:00:00</td>\n",
       "      <td>2023-08-02 00:00:00</td>\n",
       "      <td>19.000</td>\n",
       "    </tr>\n",
       "    <tr>\n",
       "      <th>25%</th>\n",
       "      <td>2023-04-22 18:00:00</td>\n",
       "      <td>2023-11-24 00:00:00</td>\n",
       "      <td>28.000</td>\n",
       "    </tr>\n",
       "    <tr>\n",
       "      <th>50%</th>\n",
       "      <td>2023-07-03 00:00:00</td>\n",
       "      <td>2024-03-05 00:00:00</td>\n",
       "      <td>31.000</td>\n",
       "    </tr>\n",
       "    <tr>\n",
       "      <th>75%</th>\n",
       "      <td>2023-09-07 00:00:00</td>\n",
       "      <td>2024-06-23 00:00:00</td>\n",
       "      <td>35.000</td>\n",
       "    </tr>\n",
       "    <tr>\n",
       "      <th>max</th>\n",
       "      <td>2024-03-09 00:00:00</td>\n",
       "      <td>2024-10-01 00:00:00</td>\n",
       "      <td>48.000</td>\n",
       "    </tr>\n",
       "    <tr>\n",
       "      <th>std</th>\n",
       "      <td>NaN</td>\n",
       "      <td>NaN</td>\n",
       "      <td>4.927</td>\n",
       "    </tr>\n",
       "  </tbody>\n",
       "</table>\n",
       "</div>"
      ],
      "text/plain": [
       "                       register_date                     last_visit       age\n",
       "count                           1476                           1476  1476.000\n",
       "mean   2023-07-03 17:11:13.170732032  2024-03-05 01:28:46.829268224    31.498\n",
       "min              2022-11-07 00:00:00            2023-08-02 00:00:00    19.000\n",
       "25%              2023-04-22 18:00:00            2023-11-24 00:00:00    28.000\n",
       "50%              2023-07-03 00:00:00            2024-03-05 00:00:00    31.000\n",
       "75%              2023-09-07 00:00:00            2024-06-23 00:00:00    35.000\n",
       "max              2024-03-09 00:00:00            2024-10-01 00:00:00    48.000\n",
       "std                              NaN                            NaN     4.927"
      ]
     },
     "execution_count": 10,
     "metadata": {},
     "output_type": "execute_result"
    }
   ],
   "source": [
    "dataset[['register_date','last_visit','age']].describe(include='all').round(3)"
   ]
  },
  {
   "cell_type": "code",
   "execution_count": 11,
   "id": "402380c0-80a8-4f6e-9a98-b0d06df7f87a",
   "metadata": {},
   "outputs": [
    {
     "data": {
      "image/png": "[encoded data removed]",
      "text/plain": [
       "<Figure size 1600x500 with 1 Axes>"
      ]
     },
     "metadata": {},
     "output_type": "display_data"
    }
   ],
   "source": [
    "plt.figure(figsize=(16,5))\n",
    "sns.boxplot(dataset, x='age')\n",
    "plt.title('Age Boxplot')\n",
    "plt.show()"
   ]
  },
  {
   "cell_type": "code",
   "execution_count": 12,
   "id": "30068d2f-6c9e-40d2-ba41-9a690897a4e6",
   "metadata": {},
   "outputs": [],
   "source": [
    "# check independent sample\n",
    "for i in dataset['customer_id'].value_counts():\n",
    "    if i > 1:\n",
    "        print('not independent sample detected')\n",
    "        break"
   ]
  },
  {
   "cell_type": "markdown",
   "id": "3fe2b49e-ffb4-4dc5-8057-bb6eb367d98a",
   "metadata": {},
   "source": [
    "The sample are independent and not counted twice."
   ]
  },
  {
   "cell_type": "code",
   "execution_count": 13,
   "id": "89bd0013-5ce3-4727-b26b-fa584db89231",
   "metadata": {},
   "outputs": [
    {
     "name": "stdout",
     "output_type": "stream",
     "text": [
      "<class 'pandas.core.frame.DataFrame'>\n",
      "RangeIndex: 1476 entries, 0 to 1475\n",
      "Data columns (total 4 columns):\n",
      " #   Column         Non-Null Count  Dtype         \n",
      "---  ------         --------------  -----         \n",
      " 0   customer_id    1476 non-null   int64         \n",
      " 1   register_date  1476 non-null   datetime64[ns]\n",
      " 2   last_visit     1476 non-null   datetime64[ns]\n",
      " 3   age            1476 non-null   int64         \n",
      "dtypes: datetime64[ns](2), int64(2)\n",
      "memory usage: 46.3 KB\n"
     ]
    }
   ],
   "source": [
    "dataset.info()"
   ]
  },
  {
   "cell_type": "code",
   "execution_count": null,
   "id": "b647eca4-56b1-4404-af34-c698935f86f6",
   "metadata": {},
   "outputs": [],
   "source": []
  },
  {
   "cell_type": "markdown",
   "id": "059d7121-f192-40c2-bf78-5f8c432f6bc8",
   "metadata": {},
   "source": [
    "## Data Preprocessing"
   ]
  },
  {
   "cell_type": "code",
   "execution_count": 14,
   "id": "1d742557-f42a-418f-b746-cca7b5204b4a",
   "metadata": {},
   "outputs": [
    {
     "data": {
      "text/html": [
       "<div>\n",
       "<style scoped>\n",
       "    .dataframe tbody tr th:only-of-type {\n",
       "        vertical-align: middle;\n",
       "    }\n",
       "\n",
       "    .dataframe tbody tr th {\n",
       "        vertical-align: top;\n",
       "    }\n",
       "\n",
       "    .dataframe thead th {\n",
       "        text-align: right;\n",
       "    }\n",
       "</style>\n",
       "<table border=\"1\" class=\"dataframe\">\n",
       "  <thead>\n",
       "    <tr style=\"text-align: right;\">\n",
       "      <th></th>\n",
       "      <th>customer_id</th>\n",
       "      <th>register_date</th>\n",
       "      <th>last_visit</th>\n",
       "      <th>age</th>\n",
       "      <th>duration</th>\n",
       "    </tr>\n",
       "  </thead>\n",
       "  <tbody>\n",
       "    <tr>\n",
       "      <th>0</th>\n",
       "      <td>1001</td>\n",
       "      <td>2023-09-29</td>\n",
       "      <td>2023-10-21</td>\n",
       "      <td>27</td>\n",
       "      <td>0</td>\n",
       "    </tr>\n",
       "    <tr>\n",
       "      <th>1</th>\n",
       "      <td>1007</td>\n",
       "      <td>2023-11-28</td>\n",
       "      <td>2023-12-19</td>\n",
       "      <td>35</td>\n",
       "      <td>0</td>\n",
       "    </tr>\n",
       "    <tr>\n",
       "      <th>2</th>\n",
       "      <td>1011</td>\n",
       "      <td>2024-02-25</td>\n",
       "      <td>2024-03-20</td>\n",
       "      <td>28</td>\n",
       "      <td>0</td>\n",
       "    </tr>\n",
       "    <tr>\n",
       "      <th>3</th>\n",
       "      <td>1012</td>\n",
       "      <td>2023-07-30</td>\n",
       "      <td>2023-08-23</td>\n",
       "      <td>22</td>\n",
       "      <td>0</td>\n",
       "    </tr>\n",
       "    <tr>\n",
       "      <th>4</th>\n",
       "      <td>1033</td>\n",
       "      <td>2023-10-03</td>\n",
       "      <td>2023-10-22</td>\n",
       "      <td>29</td>\n",
       "      <td>0</td>\n",
       "    </tr>\n",
       "  </tbody>\n",
       "</table>\n",
       "</div>"
      ],
      "text/plain": [
       "   customer_id register_date last_visit  age  duration\n",
       "0         1001    2023-09-29 2023-10-21   27         0\n",
       "1         1007    2023-11-28 2023-12-19   35         0\n",
       "2         1011    2024-02-25 2024-03-20   28         0\n",
       "3         1012    2023-07-30 2023-08-23   22         0\n",
       "4         1033    2023-10-03 2023-10-22   29         0"
      ]
     },
     "execution_count": 14,
     "metadata": {},
     "output_type": "execute_result"
    }
   ],
   "source": [
    "dataset['duration'] = (pd.Series(dataset['last_visit']-dataset['register_date']).dt.days/30).astype('int')\n",
    "dataset.head()"
   ]
  },
  {
   "cell_type": "markdown",
   "id": "e84fca02-06b8-4d91-a331-b94c34fb7dda",
   "metadata": {},
   "source": [
    "To get duration, we need to subtrack the last_visit with register_date. Some people go to the fitness center once a week, twice a week, or even everyday. We count just one for both who visit everyday and once a week."
   ]
  },
  {
   "cell_type": "code",
   "execution_count": 15,
   "id": "5dc31f11-7cf1-41cd-b279-81577f8a9353",
   "metadata": {},
   "outputs": [
    {
     "name": "stdout",
     "output_type": "stream",
     "text": [
      "<class 'pandas.core.frame.DataFrame'>\n",
      "RangeIndex: 1476 entries, 0 to 1475\n",
      "Data columns (total 5 columns):\n",
      " #   Column         Non-Null Count  Dtype         \n",
      "---  ------         --------------  -----         \n",
      " 0   customer_id    1476 non-null   int64         \n",
      " 1   register_date  1476 non-null   datetime64[ns]\n",
      " 2   last_visit     1476 non-null   datetime64[ns]\n",
      " 3   age            1476 non-null   int64         \n",
      " 4   duration       1476 non-null   int32         \n",
      "dtypes: datetime64[ns](2), int32(1), int64(2)\n",
      "memory usage: 52.0 KB\n"
     ]
    }
   ],
   "source": [
    "dataset.info()"
   ]
  },
  {
   "cell_type": "code",
   "execution_count": 16,
   "id": "c9b6f076-728d-4613-bbd0-abac22cd7675",
   "metadata": {},
   "outputs": [
    {
     "data": {
      "text/html": [
       "<div>\n",
       "<style scoped>\n",
       "    .dataframe tbody tr th:only-of-type {\n",
       "        vertical-align: middle;\n",
       "    }\n",
       "\n",
       "    .dataframe tbody tr th {\n",
       "        vertical-align: top;\n",
       "    }\n",
       "\n",
       "    .dataframe thead th {\n",
       "        text-align: right;\n",
       "    }\n",
       "</style>\n",
       "<table border=\"1\" class=\"dataframe\">\n",
       "  <thead>\n",
       "    <tr style=\"text-align: right;\">\n",
       "      <th></th>\n",
       "      <th>customer_id</th>\n",
       "      <th>register_date</th>\n",
       "      <th>last_visit</th>\n",
       "      <th>age</th>\n",
       "      <th>duration</th>\n",
       "    </tr>\n",
       "  </thead>\n",
       "  <tbody>\n",
       "    <tr>\n",
       "      <th>count</th>\n",
       "      <td>1476.000000</td>\n",
       "      <td>1476</td>\n",
       "      <td>1476</td>\n",
       "      <td>1476.000000</td>\n",
       "      <td>1476.000000</td>\n",
       "    </tr>\n",
       "    <tr>\n",
       "      <th>mean</th>\n",
       "      <td>1738.500000</td>\n",
       "      <td>2023-07-03 17:11:13.170732032</td>\n",
       "      <td>2024-03-05 01:28:46.829268224</td>\n",
       "      <td>31.497967</td>\n",
       "      <td>7.644986</td>\n",
       "    </tr>\n",
       "    <tr>\n",
       "      <th>min</th>\n",
       "      <td>1001.000000</td>\n",
       "      <td>2022-11-07 00:00:00</td>\n",
       "      <td>2023-08-02 00:00:00</td>\n",
       "      <td>19.000000</td>\n",
       "      <td>0.000000</td>\n",
       "    </tr>\n",
       "    <tr>\n",
       "      <th>25%</th>\n",
       "      <td>1369.750000</td>\n",
       "      <td>2023-04-22 18:00:00</td>\n",
       "      <td>2023-11-24 00:00:00</td>\n",
       "      <td>28.000000</td>\n",
       "      <td>4.000000</td>\n",
       "    </tr>\n",
       "    <tr>\n",
       "      <th>50%</th>\n",
       "      <td>1738.500000</td>\n",
       "      <td>2023-07-03 00:00:00</td>\n",
       "      <td>2024-03-05 00:00:00</td>\n",
       "      <td>31.000000</td>\n",
       "      <td>7.000000</td>\n",
       "    </tr>\n",
       "    <tr>\n",
       "      <th>75%</th>\n",
       "      <td>2107.250000</td>\n",
       "      <td>2023-09-07 00:00:00</td>\n",
       "      <td>2024-06-23 00:00:00</td>\n",
       "      <td>35.000000</td>\n",
       "      <td>13.000000</td>\n",
       "    </tr>\n",
       "    <tr>\n",
       "      <th>max</th>\n",
       "      <td>2476.000000</td>\n",
       "      <td>2024-03-09 00:00:00</td>\n",
       "      <td>2024-10-01 00:00:00</td>\n",
       "      <td>48.000000</td>\n",
       "      <td>19.000000</td>\n",
       "    </tr>\n",
       "    <tr>\n",
       "      <th>std</th>\n",
       "      <td>426.228812</td>\n",
       "      <td>NaN</td>\n",
       "      <td>NaN</td>\n",
       "      <td>4.926923</td>\n",
       "      <td>5.336156</td>\n",
       "    </tr>\n",
       "  </tbody>\n",
       "</table>\n",
       "</div>"
      ],
      "text/plain": [
       "       customer_id                  register_date  \\\n",
       "count  1476.000000                           1476   \n",
       "mean   1738.500000  2023-07-03 17:11:13.170732032   \n",
       "min    1001.000000            2022-11-07 00:00:00   \n",
       "25%    1369.750000            2023-04-22 18:00:00   \n",
       "50%    1738.500000            2023-07-03 00:00:00   \n",
       "75%    2107.250000            2023-09-07 00:00:00   \n",
       "max    2476.000000            2024-03-09 00:00:00   \n",
       "std     426.228812                            NaN   \n",
       "\n",
       "                          last_visit          age     duration  \n",
       "count                           1476  1476.000000  1476.000000  \n",
       "mean   2024-03-05 01:28:46.829268224    31.497967     7.644986  \n",
       "min              2023-08-02 00:00:00    19.000000     0.000000  \n",
       "25%              2023-11-24 00:00:00    28.000000     4.000000  \n",
       "50%              2024-03-05 00:00:00    31.000000     7.000000  \n",
       "75%              2024-06-23 00:00:00    35.000000    13.000000  \n",
       "max              2024-10-01 00:00:00    48.000000    19.000000  \n",
       "std                              NaN     4.926923     5.336156  "
      ]
     },
     "execution_count": 16,
     "metadata": {},
     "output_type": "execute_result"
    }
   ],
   "source": [
    "dataset.describe()"
   ]
  },
  {
   "cell_type": "markdown",
   "id": "f5e11280-4e98-421f-b400-ade5c71d5ddc",
   "metadata": {},
   "source": [
    "We query the dataset on '2024-10-01'. So, the churn statement point is '2024-04-01'. Last visit before churn statement point will count as churn."
   ]
  },
  {
   "cell_type": "code",
   "execution_count": 17,
   "id": "5fbd8b85-576a-466f-be29-7942162bfc94",
   "metadata": {},
   "outputs": [],
   "source": [
    "def churn(x):\n",
    "    if pd.Timestamp(x) < pd.Timestamp('2024-04-01'):\n",
    "        return 1\n",
    "    else:\n",
    "        return 0"
   ]
  },
  {
   "cell_type": "code",
   "execution_count": 18,
   "id": "ce472ad9-ccf1-419b-b67e-57b29e9669f7",
   "metadata": {},
   "outputs": [
    {
     "data": {
      "text/html": [
       "<div>\n",
       "<style scoped>\n",
       "    .dataframe tbody tr th:only-of-type {\n",
       "        vertical-align: middle;\n",
       "    }\n",
       "\n",
       "    .dataframe tbody tr th {\n",
       "        vertical-align: top;\n",
       "    }\n",
       "\n",
       "    .dataframe thead th {\n",
       "        text-align: right;\n",
       "    }\n",
       "</style>\n",
       "<table border=\"1\" class=\"dataframe\">\n",
       "  <thead>\n",
       "    <tr style=\"text-align: right;\">\n",
       "      <th></th>\n",
       "      <th>customer_id</th>\n",
       "      <th>register_date</th>\n",
       "      <th>last_visit</th>\n",
       "      <th>age</th>\n",
       "      <th>duration</th>\n",
       "      <th>churn</th>\n",
       "    </tr>\n",
       "  </thead>\n",
       "  <tbody>\n",
       "    <tr>\n",
       "      <th>0</th>\n",
       "      <td>1001</td>\n",
       "      <td>2023-09-29</td>\n",
       "      <td>2023-10-21</td>\n",
       "      <td>27</td>\n",
       "      <td>0</td>\n",
       "      <td>1</td>\n",
       "    </tr>\n",
       "    <tr>\n",
       "      <th>1</th>\n",
       "      <td>1007</td>\n",
       "      <td>2023-11-28</td>\n",
       "      <td>2023-12-19</td>\n",
       "      <td>35</td>\n",
       "      <td>0</td>\n",
       "      <td>1</td>\n",
       "    </tr>\n",
       "    <tr>\n",
       "      <th>2</th>\n",
       "      <td>1011</td>\n",
       "      <td>2024-02-25</td>\n",
       "      <td>2024-03-20</td>\n",
       "      <td>28</td>\n",
       "      <td>0</td>\n",
       "      <td>1</td>\n",
       "    </tr>\n",
       "    <tr>\n",
       "      <th>3</th>\n",
       "      <td>1012</td>\n",
       "      <td>2023-07-30</td>\n",
       "      <td>2023-08-23</td>\n",
       "      <td>22</td>\n",
       "      <td>0</td>\n",
       "      <td>1</td>\n",
       "    </tr>\n",
       "    <tr>\n",
       "      <th>4</th>\n",
       "      <td>1033</td>\n",
       "      <td>2023-10-03</td>\n",
       "      <td>2023-10-22</td>\n",
       "      <td>29</td>\n",
       "      <td>0</td>\n",
       "      <td>1</td>\n",
       "    </tr>\n",
       "    <tr>\n",
       "      <th>...</th>\n",
       "      <td>...</td>\n",
       "      <td>...</td>\n",
       "      <td>...</td>\n",
       "      <td>...</td>\n",
       "      <td>...</td>\n",
       "      <td>...</td>\n",
       "    </tr>\n",
       "    <tr>\n",
       "      <th>1471</th>\n",
       "      <td>2462</td>\n",
       "      <td>2023-06-10</td>\n",
       "      <td>2024-08-21</td>\n",
       "      <td>33</td>\n",
       "      <td>14</td>\n",
       "      <td>0</td>\n",
       "    </tr>\n",
       "    <tr>\n",
       "      <th>1472</th>\n",
       "      <td>2465</td>\n",
       "      <td>2022-12-29</td>\n",
       "      <td>2024-05-11</td>\n",
       "      <td>41</td>\n",
       "      <td>16</td>\n",
       "      <td>0</td>\n",
       "    </tr>\n",
       "    <tr>\n",
       "      <th>1473</th>\n",
       "      <td>2467</td>\n",
       "      <td>2023-07-27</td>\n",
       "      <td>2024-09-14</td>\n",
       "      <td>39</td>\n",
       "      <td>13</td>\n",
       "      <td>0</td>\n",
       "    </tr>\n",
       "    <tr>\n",
       "      <th>1474</th>\n",
       "      <td>2473</td>\n",
       "      <td>2023-02-13</td>\n",
       "      <td>2024-04-02</td>\n",
       "      <td>40</td>\n",
       "      <td>13</td>\n",
       "      <td>0</td>\n",
       "    </tr>\n",
       "    <tr>\n",
       "      <th>1475</th>\n",
       "      <td>2474</td>\n",
       "      <td>2023-01-03</td>\n",
       "      <td>2024-04-29</td>\n",
       "      <td>37</td>\n",
       "      <td>16</td>\n",
       "      <td>0</td>\n",
       "    </tr>\n",
       "  </tbody>\n",
       "</table>\n",
       "<p>1476 rows × 6 columns</p>\n",
       "</div>"
      ],
      "text/plain": [
       "      customer_id register_date last_visit  age  duration  churn\n",
       "0            1001    2023-09-29 2023-10-21   27         0      1\n",
       "1            1007    2023-11-28 2023-12-19   35         0      1\n",
       "2            1011    2024-02-25 2024-03-20   28         0      1\n",
       "3            1012    2023-07-30 2023-08-23   22         0      1\n",
       "4            1033    2023-10-03 2023-10-22   29         0      1\n",
       "...           ...           ...        ...  ...       ...    ...\n",
       "1471         2462    2023-06-10 2024-08-21   33        14      0\n",
       "1472         2465    2022-12-29 2024-05-11   41        16      0\n",
       "1473         2467    2023-07-27 2024-09-14   39        13      0\n",
       "1474         2473    2023-02-13 2024-04-02   40        13      0\n",
       "1475         2474    2023-01-03 2024-04-29   37        16      0\n",
       "\n",
       "[1476 rows x 6 columns]"
      ]
     },
     "execution_count": 18,
     "metadata": {},
     "output_type": "execute_result"
    }
   ],
   "source": [
    "dataset['churn'] = dataset['last_visit'].apply(churn)\n",
    "dataset"
   ]
  },
  {
   "cell_type": "code",
   "execution_count": 19,
   "id": "1ceb07a6-328c-4ac4-bcfa-1be72b87667c",
   "metadata": {},
   "outputs": [],
   "source": [
    "dataset_clean = dataset[['age','duration','churn']].copy()"
   ]
  },
  {
   "cell_type": "markdown",
   "id": "ae925a59-055b-4f4b-b6bf-93bdb339bcec",
   "metadata": {},
   "source": [
    "## Modeling"
   ]
  },
  {
   "cell_type": "code",
   "execution_count": 20,
   "id": "50d6b6c3-0b8f-4ff5-a5ea-9b67603f3b47",
   "metadata": {},
   "outputs": [],
   "source": [
    "kmf = lifelines.KaplanMeierFitter()"
   ]
  },
  {
   "cell_type": "code",
   "execution_count": 21,
   "id": "19014d74-0796-4b47-bbf1-13fe7a34b986",
   "metadata": {},
   "outputs": [
    {
     "data": {
      "text/plain": [
       "<lifelines.KaplanMeierFitter:\"KM_estimate\", fitted with 1476 total observations, 645 right-censored observations>"
      ]
     },
     "execution_count": 21,
     "metadata": {},
     "output_type": "execute_result"
    }
   ],
   "source": [
    "kmf.fit(durations=dataset_clean['duration'],\n",
    "        event_observed=dataset_clean['churn'])"
   ]
  },
  {
   "cell_type": "code",
   "execution_count": 23,
   "id": "a7e5d9c0-42a1-4caf-831a-00f385cc34c9",
   "metadata": {},
   "outputs": [
    {
     "data": {
      "image/png": "[encoded data removed]",
      "text/plain": [
       "<Figure size 1600x500 with 1 Axes>"
      ]
     },
     "metadata": {},
     "output_type": "display_data"
    }
   ],
   "source": [
    "plt.figure(figsize=(16,5))\n",
    "kmf.plot()\n",
    "plt.xticks(np.arange(0, dataset_clean['duration'].max()+1,step=2))\n",
    "plt.xlabel('duration in month')\n",
    "plt.show()"
   ]
  },
  {
   "cell_type": "code",
   "execution_count": 34,
   "id": "03f56847-5d1c-460c-b05a-b27777632b59",
   "metadata": {},
   "outputs": [
    {
     "data": {
      "text/html": [
       "<div>\n",
       "<style scoped>\n",
       "    .dataframe tbody tr th:only-of-type {\n",
       "        vertical-align: middle;\n",
       "    }\n",
       "\n",
       "    .dataframe tbody tr th {\n",
       "        vertical-align: top;\n",
       "    }\n",
       "\n",
       "    .dataframe thead th {\n",
       "        text-align: right;\n",
       "    }\n",
       "</style>\n",
       "<table border=\"1\" class=\"dataframe\">\n",
       "  <thead>\n",
       "    <tr style=\"text-align: right;\">\n",
       "      <th></th>\n",
       "      <th>removed</th>\n",
       "      <th>observed</th>\n",
       "      <th>censored</th>\n",
       "      <th>entrance</th>\n",
       "      <th>at_risk</th>\n",
       "    </tr>\n",
       "    <tr>\n",
       "      <th>event_at</th>\n",
       "      <th></th>\n",
       "      <th></th>\n",
       "      <th></th>\n",
       "      <th></th>\n",
       "      <th></th>\n",
       "    </tr>\n",
       "  </thead>\n",
       "  <tbody>\n",
       "    <tr>\n",
       "      <th>0.0</th>\n",
       "      <td>271</td>\n",
       "      <td>271</td>\n",
       "      <td>0</td>\n",
       "      <td>1476</td>\n",
       "      <td>1476</td>\n",
       "    </tr>\n",
       "    <tr>\n",
       "      <th>1.0</th>\n",
       "      <td>8</td>\n",
       "      <td>8</td>\n",
       "      <td>0</td>\n",
       "      <td>0</td>\n",
       "      <td>1205</td>\n",
       "    </tr>\n",
       "    <tr>\n",
       "      <th>2.0</th>\n",
       "      <td>20</td>\n",
       "      <td>19</td>\n",
       "      <td>1</td>\n",
       "      <td>0</td>\n",
       "      <td>1197</td>\n",
       "    </tr>\n",
       "    <tr>\n",
       "      <th>3.0</th>\n",
       "      <td>62</td>\n",
       "      <td>62</td>\n",
       "      <td>0</td>\n",
       "      <td>0</td>\n",
       "      <td>1177</td>\n",
       "    </tr>\n",
       "    <tr>\n",
       "      <th>4.0</th>\n",
       "      <td>114</td>\n",
       "      <td>114</td>\n",
       "      <td>0</td>\n",
       "      <td>0</td>\n",
       "      <td>1115</td>\n",
       "    </tr>\n",
       "    <tr>\n",
       "      <th>5.0</th>\n",
       "      <td>122</td>\n",
       "      <td>122</td>\n",
       "      <td>0</td>\n",
       "      <td>0</td>\n",
       "      <td>1001</td>\n",
       "    </tr>\n",
       "    <tr>\n",
       "      <th>6.0</th>\n",
       "      <td>124</td>\n",
       "      <td>124</td>\n",
       "      <td>0</td>\n",
       "      <td>0</td>\n",
       "      <td>879</td>\n",
       "    </tr>\n",
       "    <tr>\n",
       "      <th>7.0</th>\n",
       "      <td>73</td>\n",
       "      <td>71</td>\n",
       "      <td>2</td>\n",
       "      <td>0</td>\n",
       "      <td>755</td>\n",
       "    </tr>\n",
       "    <tr>\n",
       "      <th>8.0</th>\n",
       "      <td>27</td>\n",
       "      <td>27</td>\n",
       "      <td>0</td>\n",
       "      <td>0</td>\n",
       "      <td>682</td>\n",
       "    </tr>\n",
       "    <tr>\n",
       "      <th>9.0</th>\n",
       "      <td>23</td>\n",
       "      <td>12</td>\n",
       "      <td>11</td>\n",
       "      <td>0</td>\n",
       "      <td>655</td>\n",
       "    </tr>\n",
       "    <tr>\n",
       "      <th>10.0</th>\n",
       "      <td>28</td>\n",
       "      <td>0</td>\n",
       "      <td>28</td>\n",
       "      <td>0</td>\n",
       "      <td>632</td>\n",
       "    </tr>\n",
       "    <tr>\n",
       "      <th>11.0</th>\n",
       "      <td>88</td>\n",
       "      <td>1</td>\n",
       "      <td>87</td>\n",
       "      <td>0</td>\n",
       "      <td>604</td>\n",
       "    </tr>\n",
       "    <tr>\n",
       "      <th>12.0</th>\n",
       "      <td>134</td>\n",
       "      <td>0</td>\n",
       "      <td>134</td>\n",
       "      <td>0</td>\n",
       "      <td>516</td>\n",
       "    </tr>\n",
       "    <tr>\n",
       "      <th>13.0</th>\n",
       "      <td>130</td>\n",
       "      <td>0</td>\n",
       "      <td>130</td>\n",
       "      <td>0</td>\n",
       "      <td>382</td>\n",
       "    </tr>\n",
       "    <tr>\n",
       "      <th>14.0</th>\n",
       "      <td>117</td>\n",
       "      <td>0</td>\n",
       "      <td>117</td>\n",
       "      <td>0</td>\n",
       "      <td>252</td>\n",
       "    </tr>\n",
       "    <tr>\n",
       "      <th>15.0</th>\n",
       "      <td>71</td>\n",
       "      <td>0</td>\n",
       "      <td>71</td>\n",
       "      <td>0</td>\n",
       "      <td>135</td>\n",
       "    </tr>\n",
       "    <tr>\n",
       "      <th>16.0</th>\n",
       "      <td>40</td>\n",
       "      <td>0</td>\n",
       "      <td>40</td>\n",
       "      <td>0</td>\n",
       "      <td>64</td>\n",
       "    </tr>\n",
       "    <tr>\n",
       "      <th>17.0</th>\n",
       "      <td>16</td>\n",
       "      <td>0</td>\n",
       "      <td>16</td>\n",
       "      <td>0</td>\n",
       "      <td>24</td>\n",
       "    </tr>\n",
       "    <tr>\n",
       "      <th>18.0</th>\n",
       "      <td>7</td>\n",
       "      <td>0</td>\n",
       "      <td>7</td>\n",
       "      <td>0</td>\n",
       "      <td>8</td>\n",
       "    </tr>\n",
       "    <tr>\n",
       "      <th>19.0</th>\n",
       "      <td>1</td>\n",
       "      <td>0</td>\n",
       "      <td>1</td>\n",
       "      <td>0</td>\n",
       "      <td>1</td>\n",
       "    </tr>\n",
       "  </tbody>\n",
       "</table>\n",
       "</div>"
      ],
      "text/plain": [
       "          removed  observed  censored  entrance  at_risk\n",
       "event_at                                                \n",
       "0.0           271       271         0      1476     1476\n",
       "1.0             8         8         0         0     1205\n",
       "2.0            20        19         1         0     1197\n",
       "3.0            62        62         0         0     1177\n",
       "4.0           114       114         0         0     1115\n",
       "5.0           122       122         0         0     1001\n",
       "6.0           124       124         0         0      879\n",
       "7.0            73        71         2         0      755\n",
       "8.0            27        27         0         0      682\n",
       "9.0            23        12        11         0      655\n",
       "10.0           28         0        28         0      632\n",
       "11.0           88         1        87         0      604\n",
       "12.0          134         0       134         0      516\n",
       "13.0          130         0       130         0      382\n",
       "14.0          117         0       117         0      252\n",
       "15.0           71         0        71         0      135\n",
       "16.0           40         0        40         0       64\n",
       "17.0           16         0        16         0       24\n",
       "18.0            7         0         7         0        8\n",
       "19.0            1         0         1         0        1"
      ]
     },
     "execution_count": 34,
     "metadata": {},
     "output_type": "execute_result"
    }
   ],
   "source": [
    "kmf.event_table"
   ]
  },
  {
   "cell_type": "markdown",
   "id": "ba6cf7ee-656a-4c43-b3a7-ddaf4d7f0674",
   "metadata": {},
   "source": [
    "## Insights"
   ]
  },
  {
   "cell_type": "markdown",
   "id": "265a769b-ab59-461e-932d-3dfeaa3f916e",
   "metadata": {},
   "source": [
    "### Interpretation and Reporting"
   ]
  },
  {
   "cell_type": "code",
   "execution_count": null,
   "id": "36317cd0-aa71-40e7-a1dc-bdb871838c5d",
   "metadata": {},
   "outputs": [],
   "source": []
  },
  {
   "cell_type": "code",
   "execution_count": null,
   "id": "22a17b0f-3991-43d3-825c-71fb0490a626",
   "metadata": {},
   "outputs": [],
   "source": []
  },
  {
   "cell_type": "markdown",
   "id": "886e0a3f-c7ca-40ac-ba04-14d89fe46fe0",
   "metadata": {},
   "source": [
    "### Action"
   ]
  },
  {
   "cell_type": "code",
   "execution_count": null,
   "id": "44e83f85-e48a-4a86-9a84-2edc163191da",
   "metadata": {},
   "outputs": [],
   "source": []
  },
  {
   "cell_type": "code",
   "execution_count": null,
   "id": "bd4f585d-3eca-487e-9774-d36ec50599c2",
   "metadata": {},
   "outputs": [],
   "source": []
  }
 ],
 "metadata": {
  "kernelspec": {
   "display_name": "Python 3 (ipykernel)",
   "language": "python",
   "name": "python3"
  },
  "language_info": {
   "codemirror_mode": {
    "name": "ipython",
    "version": 3
   },
   "file_extension": ".py",
   "mimetype": "text/x-python",
   "name": "python",
   "nbconvert_exporter": "python",
   "pygments_lexer": "ipython3",
   "version": "3.12.2"
  }
 },
 "nbformat": 4,
 "nbformat_minor": 5
}
