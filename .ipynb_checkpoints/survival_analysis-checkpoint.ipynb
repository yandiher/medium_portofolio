{
 "cells": [
  {
   "cell_type": "markdown",
   "id": "2a7c961e-087b-4acc-b670-6797479cfce4",
   "metadata": {},
   "source": [
    "# Portofolio:"
   ]
  },
  {
   "cell_type": "markdown",
   "id": "9e4e8f25-b855-40f4-9451-2dcfab2f1b95",
   "metadata": {},
   "source": [
    "## Business Understanding"
   ]
  },
  {
   "cell_type": "markdown",
   "id": "9a0524ce-5e18-4868-a709-9d70dc3034af",
   "metadata": {},
   "source": [
    "### Introduction\n",
    "\n",
    "A fitness center offers comprehensive facilities and training programs to help customers achieve their fitness goals. Currently, they are running an attractive promotional program by offering a 50% discount on the first month's membership fee for new sign-ups. The aims of this coupon program is to:\n",
    "- increase member growth\n",
    "- increase long term profit\n",
    "- build a loyal customer\n",
    "\n",
    "The marketing team wants to know customer lifetime value by understanding how long customers will stop visiting the fitness center using the survival analysis methodology. Churn is a tricky case. Although we say the customer is a churn already, there is still a chance to win back even old customers. Our marketing team definition for churn is if customers don't visit the fitness center in last six months, they assume that the customers are churn. It means, churn is for customers that don't visit for more than six months and not churn is for customers that still visit in last six months."
   ]
  },
  {
   "cell_type": "code",
   "execution_count": null,
   "id": "28f706b2-ec50-41f9-9112-576761665c9b",
   "metadata": {},
   "outputs": [],
   "source": []
  },
  {
   "cell_type": "code",
   "execution_count": null,
   "id": "566b31dc-a0a7-43fd-8412-0e164a67c82e",
   "metadata": {},
   "outputs": [],
   "source": []
  },
  {
   "cell_type": "markdown",
   "id": "e5b7c2b9-a6ab-473f-8e0e-fc74be9e2602",
   "metadata": {},
   "source": [
    "### Objectives\n",
    "\n",
    "The aim of this project is to understand:\n",
    "- the customers behaviour after signup and using their 50% discount on the first month membership,\n",
    "- how long customer will survive from churn, and\n",
    "- what factors influence the duration of survival."
   ]
  },
  {
   "cell_type": "code",
   "execution_count": null,
   "id": "6063a4db-4add-460c-bce3-76b4fc247ade",
   "metadata": {},
   "outputs": [],
   "source": []
  },
  {
   "cell_type": "code",
   "execution_count": null,
   "id": "3da77c0d-9c67-449c-9aa6-367802dc72ad",
   "metadata": {},
   "outputs": [],
   "source": []
  },
  {
   "cell_type": "markdown",
   "id": "b57f8c37-e3a1-4a93-87a0-87f2d800e8dc",
   "metadata": {},
   "source": [
    "### Tools and Dataset Needed\n",
    "\n",
    "The technologies used for this project is Python with its library such as numpy, pandas, matplotlib, seaborn, and lifeliness. The dataset contains few variables like customer_id, first_visit, last_visit, and age."
   ]
  },
  {
   "cell_type": "code",
   "execution_count": null,
   "id": "7a15506d-5e42-4dda-9d82-d0d70b83d9af",
   "metadata": {},
   "outputs": [],
   "source": []
  },
  {
   "cell_type": "code",
   "execution_count": null,
   "id": "630c270a-b89b-4489-bacb-13c6cee0e349",
   "metadata": {},
   "outputs": [],
   "source": []
  },
  {
   "cell_type": "markdown",
   "id": "6aba199e-0557-439f-a608-33602246086b",
   "metadata": {},
   "source": [
    "### Methodology\n",
    "\n",
    "The survival analysis has some steps to do. All variables we need are time to event where this variable explains how long until the event occurs, target variable where this variable explains whether or not the event occurs until the study ends (it's called right cencored), and other variables that has correlation with the target.\n",
    "\n",
    "We'll make churn variable by using if logic. 1 if last_visit < (query_time - six months) else 0 where 1 is churn and 0 is not churn."
   ]
  },
  {
   "cell_type": "code",
   "execution_count": null,
   "id": "4d5bf48d-6c2b-456e-8b37-a186af734b60",
   "metadata": {},
   "outputs": [],
   "source": []
  },
  {
   "cell_type": "code",
   "execution_count": null,
   "id": "87b5ebe4-8bb7-4192-a0b3-74e287c2e499",
   "metadata": {},
   "outputs": [],
   "source": []
  },
  {
   "cell_type": "markdown",
   "id": "56f3994b-f6b5-4cbd-87f6-63332b0107c8",
   "metadata": {},
   "source": [
    "## Data Understanding"
   ]
  },
  {
   "cell_type": "markdown",
   "id": "7036b50f-5891-4d29-b5de-575e30217914",
   "metadata": {},
   "source": [
    "### Data Acquisition"
   ]
  },
  {
   "cell_type": "code",
   "execution_count": 1,
   "id": "89041653-860d-4903-ac5c-af2d8db917de",
   "metadata": {},
   "outputs": [],
   "source": [
    "import datetime as dt\n",
    "import numpy as np\n",
    "import pandas as pd\n",
    "import matplotlib.pyplot as plt\n",
    "import seaborn as sns\n",
    "import lifelines"
   ]
  },
  {
   "cell_type": "code",
   "execution_count": 2,
   "id": "edd2e10f-cdda-41bb-b28d-232287f0e4fe",
   "metadata": {},
   "outputs": [
    {
     "data": {
      "text/html": [
       "<div>\n",
       "<style scoped>\n",
       "    .dataframe tbody tr th:only-of-type {\n",
       "        vertical-align: middle;\n",
       "    }\n",
       "\n",
       "    .dataframe tbody tr th {\n",
       "        vertical-align: top;\n",
       "    }\n",
       "\n",
       "    .dataframe thead th {\n",
       "        text-align: right;\n",
       "    }\n",
       "</style>\n",
       "<table border=\"1\" class=\"dataframe\">\n",
       "  <thead>\n",
       "    <tr style=\"text-align: right;\">\n",
       "      <th></th>\n",
       "      <th>customer_id</th>\n",
       "      <th>register_date</th>\n",
       "      <th>last_visit</th>\n",
       "      <th>age</th>\n",
       "    </tr>\n",
       "  </thead>\n",
       "  <tbody>\n",
       "    <tr>\n",
       "      <th>0</th>\n",
       "      <td>1001</td>\n",
       "      <td>2023-09-29</td>\n",
       "      <td>2023-10-21</td>\n",
       "      <td>27</td>\n",
       "    </tr>\n",
       "    <tr>\n",
       "      <th>1</th>\n",
       "      <td>1007</td>\n",
       "      <td>2023-11-28</td>\n",
       "      <td>2023-12-19</td>\n",
       "      <td>35</td>\n",
       "    </tr>\n",
       "    <tr>\n",
       "      <th>2</th>\n",
       "      <td>1011</td>\n",
       "      <td>2024-02-25</td>\n",
       "      <td>2024-03-20</td>\n",
       "      <td>28</td>\n",
       "    </tr>\n",
       "    <tr>\n",
       "      <th>3</th>\n",
       "      <td>1012</td>\n",
       "      <td>2023-07-30</td>\n",
       "      <td>2023-08-23</td>\n",
       "      <td>22</td>\n",
       "    </tr>\n",
       "    <tr>\n",
       "      <th>4</th>\n",
       "      <td>1033</td>\n",
       "      <td>2023-10-03</td>\n",
       "      <td>2023-10-22</td>\n",
       "      <td>29</td>\n",
       "    </tr>\n",
       "  </tbody>\n",
       "</table>\n",
       "</div>"
      ],
      "text/plain": [
       "   customer_id register_date  last_visit  age\n",
       "0         1001    2023-09-29  2023-10-21   27\n",
       "1         1007    2023-11-28  2023-12-19   35\n",
       "2         1011    2024-02-25  2024-03-20   28\n",
       "3         1012    2023-07-30  2023-08-23   22\n",
       "4         1033    2023-10-03  2023-10-22   29"
      ]
     },
     "execution_count": 2,
     "metadata": {},
     "output_type": "execute_result"
    }
   ],
   "source": [
    "dataset = pd.read_csv('data/fitness_10-2024.csv')\n",
    "dataset.head()"
   ]
  },
  {
   "cell_type": "markdown",
   "id": "73daa88b-23f4-4708-8b6c-8d4e60a7e6b6",
   "metadata": {},
   "source": [
    "### Data Profiling"
   ]
  },
  {
   "cell_type": "code",
   "execution_count": 3,
   "id": "31e63c38-78a8-4615-9192-0a8f168212a5",
   "metadata": {},
   "outputs": [
    {
     "name": "stdout",
     "output_type": "stream",
     "text": [
      "<class 'pandas.core.frame.DataFrame'>\n",
      "RangeIndex: 1476 entries, 0 to 1475\n",
      "Data columns (total 4 columns):\n",
      " #   Column         Non-Null Count  Dtype \n",
      "---  ------         --------------  ----- \n",
      " 0   customer_id    1476 non-null   int64 \n",
      " 1   register_date  1476 non-null   object\n",
      " 2   last_visit     1476 non-null   object\n",
      " 3   age            1476 non-null   int64 \n",
      "dtypes: int64(2), object(2)\n",
      "memory usage: 46.3+ KB\n"
     ]
    }
   ],
   "source": [
    "# dataset info\n",
    "dataset.info()"
   ]
  },
  {
   "cell_type": "markdown",
   "id": "d3749241-f9e1-4cce-ac86-0a113513d362",
   "metadata": {},
   "source": [
    "The register_date and last_visit are still object type, so we will correct it later."
   ]
  },
  {
   "cell_type": "code",
   "execution_count": 4,
   "id": "139e00ba-e68d-45a7-b83c-50319919debe",
   "metadata": {},
   "outputs": [
    {
     "data": {
      "text/plain": [
       "customer_id      0\n",
       "register_date    0\n",
       "last_visit       0\n",
       "age              0\n",
       "dtype: int64"
      ]
     },
     "execution_count": 4,
     "metadata": {},
     "output_type": "execute_result"
    }
   ],
   "source": [
    "# missing values\n",
    "dataset.isnull().sum()"
   ]
  },
  {
   "cell_type": "code",
   "execution_count": 5,
   "id": "fbbd9ba3-9e34-4099-b398-3d8771ccef6d",
   "metadata": {},
   "outputs": [
    {
     "data": {
      "text/plain": [
       "np.int64(0)"
      ]
     },
     "execution_count": 5,
     "metadata": {},
     "output_type": "execute_result"
    }
   ],
   "source": [
    "# duplicated values\n",
    "dataset.duplicated().sum()"
   ]
  },
  {
   "cell_type": "code",
   "execution_count": 6,
   "id": "42a9ecfb-6ca1-4241-9738-fde2425043c4",
   "metadata": {},
   "outputs": [],
   "source": [
    "# correct wrong format\n",
    "dataset['register_date'] = pd.to_datetime(dataset['register_date'])\n",
    "dataset['last_visit'] = pd.to_datetime(dataset['last_visit'])"
   ]
  },
  {
   "cell_type": "code",
   "execution_count": 7,
   "id": "17113f07-9b09-44c2-9f07-a5a17c9bcbc2",
   "metadata": {},
   "outputs": [
    {
     "name": "stdout",
     "output_type": "stream",
     "text": [
      "<class 'pandas.core.frame.DataFrame'>\n",
      "RangeIndex: 1476 entries, 0 to 1475\n",
      "Data columns (total 4 columns):\n",
      " #   Column         Non-Null Count  Dtype         \n",
      "---  ------         --------------  -----         \n",
      " 0   customer_id    1476 non-null   int64         \n",
      " 1   register_date  1476 non-null   datetime64[ns]\n",
      " 2   last_visit     1476 non-null   datetime64[ns]\n",
      " 3   age            1476 non-null   int64         \n",
      "dtypes: datetime64[ns](2), int64(2)\n",
      "memory usage: 46.3 KB\n"
     ]
    }
   ],
   "source": [
    "dataset.info()"
   ]
  },
  {
   "cell_type": "markdown",
   "id": "fc410ef4-c089-4963-986c-60eb940fdf56",
   "metadata": {},
   "source": [
    "Now we can see that the register_date and last_visit are already datetime type."
   ]
  },
  {
   "cell_type": "markdown",
   "id": "285e0d54-2085-423d-8b23-d0f02935588b",
   "metadata": {},
   "source": [
    "### Descriptive Statistics"
   ]
  },
  {
   "cell_type": "code",
   "execution_count": 8,
   "id": "63eb4a77-f1fb-4cae-83a3-a6089416d614",
   "metadata": {},
   "outputs": [
    {
     "data": {
      "text/plain": [
       "register_date\n",
       "2023-03-24    12\n",
       "2023-05-31    11\n",
       "2023-04-24    11\n",
       "2023-05-28    11\n",
       "2023-07-30    11\n",
       "              ..\n",
       "2023-01-06     1\n",
       "2022-11-28     1\n",
       "2022-11-13     1\n",
       "2022-12-23     1\n",
       "2023-01-03     1\n",
       "Name: count, Length: 418, dtype: int64"
      ]
     },
     "execution_count": 8,
     "metadata": {},
     "output_type": "execute_result"
    }
   ],
   "source": [
    "dataset['register_date'].value_counts()"
   ]
  },
  {
   "cell_type": "code",
   "execution_count": 9,
   "id": "8678ea9a-4424-4384-8011-b1539b22ebe4",
   "metadata": {},
   "outputs": [
    {
     "data": {
      "text/plain": [
       "last_visit\n",
       "2023-12-27    15\n",
       "2024-08-25     9\n",
       "2024-09-08     9\n",
       "2024-09-15     9\n",
       "2024-07-29     8\n",
       "              ..\n",
       "2024-09-18     1\n",
       "2024-05-10     1\n",
       "2024-04-13     1\n",
       "2024-08-11     1\n",
       "2024-05-04     1\n",
       "Name: count, Length: 416, dtype: int64"
      ]
     },
     "execution_count": 9,
     "metadata": {},
     "output_type": "execute_result"
    }
   ],
   "source": [
    "dataset['last_visit'].value_counts()"
   ]
  },
  {
   "cell_type": "code",
   "execution_count": 10,
   "id": "c6db60cd-3dad-4b39-b558-b99313b1447e",
   "metadata": {},
   "outputs": [
    {
     "data": {
      "text/html": [
       "<div>\n",
       "<style scoped>\n",
       "    .dataframe tbody tr th:only-of-type {\n",
       "        vertical-align: middle;\n",
       "    }\n",
       "\n",
       "    .dataframe tbody tr th {\n",
       "        vertical-align: top;\n",
       "    }\n",
       "\n",
       "    .dataframe thead th {\n",
       "        text-align: right;\n",
       "    }\n",
       "</style>\n",
       "<table border=\"1\" class=\"dataframe\">\n",
       "  <thead>\n",
       "    <tr style=\"text-align: right;\">\n",
       "      <th></th>\n",
       "      <th>register_date</th>\n",
       "      <th>last_visit</th>\n",
       "      <th>age</th>\n",
       "    </tr>\n",
       "  </thead>\n",
       "  <tbody>\n",
       "    <tr>\n",
       "      <th>count</th>\n",
       "      <td>1476</td>\n",
       "      <td>1476</td>\n",
       "      <td>1476.000</td>\n",
       "    </tr>\n",
       "    <tr>\n",
       "      <th>mean</th>\n",
       "      <td>2023-07-03 17:11:13.170732032</td>\n",
       "      <td>2024-03-05 01:28:46.829268224</td>\n",
       "      <td>31.498</td>\n",
       "    </tr>\n",
       "    <tr>\n",
       "      <th>min</th>\n",
       "      <td>2022-11-07 00:00:00</td>\n",
       "      <td>2023-08-02 00:00:00</td>\n",
       "      <td>19.000</td>\n",
       "    </tr>\n",
       "    <tr>\n",
       "      <th>25%</th>\n",
       "      <td>2023-04-22 18:00:00</td>\n",
       "      <td>2023-11-24 00:00:00</td>\n",
       "      <td>28.000</td>\n",
       "    </tr>\n",
       "    <tr>\n",
       "      <th>50%</th>\n",
       "      <td>2023-07-03 00:00:00</td>\n",
       "      <td>2024-03-05 00:00:00</td>\n",
       "      <td>31.000</td>\n",
       "    </tr>\n",
       "    <tr>\n",
       "      <th>75%</th>\n",
       "      <td>2023-09-07 00:00:00</td>\n",
       "      <td>2024-06-23 00:00:00</td>\n",
       "      <td>35.000</td>\n",
       "    </tr>\n",
       "    <tr>\n",
       "      <th>max</th>\n",
       "      <td>2024-03-09 00:00:00</td>\n",
       "      <td>2024-10-01 00:00:00</td>\n",
       "      <td>48.000</td>\n",
       "    </tr>\n",
       "    <tr>\n",
       "      <th>std</th>\n",
       "      <td>NaN</td>\n",
       "      <td>NaN</td>\n",
       "      <td>4.927</td>\n",
       "    </tr>\n",
       "  </tbody>\n",
       "</table>\n",
       "</div>"
      ],
      "text/plain": [
       "                       register_date                     last_visit       age\n",
       "count                           1476                           1476  1476.000\n",
       "mean   2023-07-03 17:11:13.170732032  2024-03-05 01:28:46.829268224    31.498\n",
       "min              2022-11-07 00:00:00            2023-08-02 00:00:00    19.000\n",
       "25%              2023-04-22 18:00:00            2023-11-24 00:00:00    28.000\n",
       "50%              2023-07-03 00:00:00            2024-03-05 00:00:00    31.000\n",
       "75%              2023-09-07 00:00:00            2024-06-23 00:00:00    35.000\n",
       "max              2024-03-09 00:00:00            2024-10-01 00:00:00    48.000\n",
       "std                              NaN                            NaN     4.927"
      ]
     },
     "execution_count": 10,
     "metadata": {},
     "output_type": "execute_result"
    }
   ],
   "source": [
    "dataset[['register_date','last_visit','age']].describe(include='all').round(3)"
   ]
  },
  {
   "cell_type": "code",
   "execution_count": 11,
   "id": "402380c0-80a8-4f6e-9a98-b0d06df7f87a",
   "metadata": {},
   "outputs": [
    {
     "data": {
      "image/png": "[encoded data removed]",
      "text/plain": [
       "<Figure size 1600x500 with 1 Axes>"
      ]
     },
     "metadata": {},
     "output_type": "display_data"
    }
   ],
   "source": [
    "plt.figure(figsize=(16,5))\n",
    "sns.boxplot(dataset, x='age')\n",
    "plt.title('Age Boxplot')\n",
    "plt.show()"
   ]
  },
  {
   "cell_type": "code",
   "execution_count": 12,
   "id": "30068d2f-6c9e-40d2-ba41-9a690897a4e6",
   "metadata": {},
   "outputs": [],
   "source": [
    "# check independent sample\n",
    "for i in dataset['customer_id'].value_counts():\n",
    "    if i > 1:\n",
    "        print('not independent sample detected')\n",
    "        break"
   ]
  },
  {
   "cell_type": "markdown",
   "id": "3fe2b49e-ffb4-4dc5-8057-bb6eb367d98a",
   "metadata": {},
   "source": [
    "The sample are independent and not counted twice."
   ]
  },
  {
   "cell_type": "code",
   "execution_count": 13,
   "id": "89bd0013-5ce3-4727-b26b-fa584db89231",
   "metadata": {},
   "outputs": [
    {
     "name": "stdout",
     "output_type": "stream",
     "text": [
      "<class 'pandas.core.frame.DataFrame'>\n",
      "RangeIndex: 1476 entries, 0 to 1475\n",
      "Data columns (total 4 columns):\n",
      " #   Column         Non-Null Count  Dtype         \n",
      "---  ------         --------------  -----         \n",
      " 0   customer_id    1476 non-null   int64         \n",
      " 1   register_date  1476 non-null   datetime64[ns]\n",
      " 2   last_visit     1476 non-null   datetime64[ns]\n",
      " 3   age            1476 non-null   int64         \n",
      "dtypes: datetime64[ns](2), int64(2)\n",
      "memory usage: 46.3 KB\n"
     ]
    }
   ],
   "source": [
    "dataset.info()"
   ]
  },
  {
   "cell_type": "code",
   "execution_count": null,
   "id": "b647eca4-56b1-4404-af34-c698935f86f6",
   "metadata": {},
   "outputs": [],
   "source": []
  },
  {
   "cell_type": "markdown",
   "id": "059d7121-f192-40c2-bf78-5f8c432f6bc8",
   "metadata": {},
   "source": [
    "## Data Preprocessing"
   ]
  },
  {
   "cell_type": "code",
   "execution_count": 14,
   "id": "1d742557-f42a-418f-b746-cca7b5204b4a",
   "metadata": {},
   "outputs": [
    {
     "data": {
      "text/html": [
       "<div>\n",
       "<style scoped>\n",
       "    .dataframe tbody tr th:only-of-type {\n",
       "        vertical-align: middle;\n",
       "    }\n",
       "\n",
       "    .dataframe tbody tr th {\n",
       "        vertical-align: top;\n",
       "    }\n",
       "\n",
       "    .dataframe thead th {\n",
       "        text-align: right;\n",
       "    }\n",
       "</style>\n",
       "<table border=\"1\" class=\"dataframe\">\n",
       "  <thead>\n",
       "    <tr style=\"text-align: right;\">\n",
       "      <th></th>\n",
       "      <th>customer_id</th>\n",
       "      <th>register_date</th>\n",
       "      <th>last_visit</th>\n",
       "      <th>age</th>\n",
       "      <th>duration</th>\n",
       "    </tr>\n",
       "  </thead>\n",
       "  <tbody>\n",
       "    <tr>\n",
       "      <th>0</th>\n",
       "      <td>1001</td>\n",
       "      <td>2023-09-29</td>\n",
       "      <td>2023-10-21</td>\n",
       "      <td>27</td>\n",
       "      <td>3</td>\n",
       "    </tr>\n",
       "    <tr>\n",
       "      <th>1</th>\n",
       "      <td>1007</td>\n",
       "      <td>2023-11-28</td>\n",
       "      <td>2023-12-19</td>\n",
       "      <td>35</td>\n",
       "      <td>3</td>\n",
       "    </tr>\n",
       "    <tr>\n",
       "      <th>2</th>\n",
       "      <td>1011</td>\n",
       "      <td>2024-02-25</td>\n",
       "      <td>2024-03-20</td>\n",
       "      <td>28</td>\n",
       "      <td>3</td>\n",
       "    </tr>\n",
       "    <tr>\n",
       "      <th>3</th>\n",
       "      <td>1012</td>\n",
       "      <td>2023-07-30</td>\n",
       "      <td>2023-08-23</td>\n",
       "      <td>22</td>\n",
       "      <td>3</td>\n",
       "    </tr>\n",
       "    <tr>\n",
       "      <th>4</th>\n",
       "      <td>1033</td>\n",
       "      <td>2023-10-03</td>\n",
       "      <td>2023-10-22</td>\n",
       "      <td>29</td>\n",
       "      <td>2</td>\n",
       "    </tr>\n",
       "  </tbody>\n",
       "</table>\n",
       "</div>"
      ],
      "text/plain": [
       "   customer_id register_date last_visit  age  duration\n",
       "0         1001    2023-09-29 2023-10-21   27         3\n",
       "1         1007    2023-11-28 2023-12-19   35         3\n",
       "2         1011    2024-02-25 2024-03-20   28         3\n",
       "3         1012    2023-07-30 2023-08-23   22         3\n",
       "4         1033    2023-10-03 2023-10-22   29         2"
      ]
     },
     "execution_count": 14,
     "metadata": {},
     "output_type": "execute_result"
    }
   ],
   "source": [
    "dataset['duration'] = (pd.Series(dataset['last_visit']-dataset['register_date']).dt.days/7).astype('int')\n",
    "dataset.head()"
   ]
  },
  {
   "cell_type": "markdown",
   "id": "e84fca02-06b8-4d91-a331-b94c34fb7dda",
   "metadata": {},
   "source": [
    "To get duration, we need to subtrack the last_visit with register_date. Some people go to the fitness center once a week, twice a week, or even everyday. We count just one for both who visit everyday and once a week."
   ]
  },
  {
   "cell_type": "code",
   "execution_count": 15,
   "id": "5dc31f11-7cf1-41cd-b279-81577f8a9353",
   "metadata": {},
   "outputs": [
    {
     "name": "stdout",
     "output_type": "stream",
     "text": [
      "<class 'pandas.core.frame.DataFrame'>\n",
      "RangeIndex: 1476 entries, 0 to 1475\n",
      "Data columns (total 5 columns):\n",
      " #   Column         Non-Null Count  Dtype         \n",
      "---  ------         --------------  -----         \n",
      " 0   customer_id    1476 non-null   int64         \n",
      " 1   register_date  1476 non-null   datetime64[ns]\n",
      " 2   last_visit     1476 non-null   datetime64[ns]\n",
      " 3   age            1476 non-null   int64         \n",
      " 4   duration       1476 non-null   int64         \n",
      "dtypes: datetime64[ns](2), int64(3)\n",
      "memory usage: 57.8 KB\n"
     ]
    }
   ],
   "source": [
    "dataset.info()"
   ]
  },
  {
   "cell_type": "markdown",
   "id": "f5e11280-4e98-421f-b400-ade5c71d5ddc",
   "metadata": {},
   "source": [
    "We query the dataset on '2024-10-01'. So, the churn statement point is '2024-04-01'. Last visit before churn statement point will count as churn."
   ]
  },
  {
   "cell_type": "code",
   "execution_count": 16,
   "id": "5fbd8b85-576a-466f-be29-7942162bfc94",
   "metadata": {},
   "outputs": [],
   "source": [
    "def churn(x):\n",
    "    if pd.Timestamp(x) < pd.Timestamp('2024-04-01'):\n",
    "        return 1\n",
    "    else:\n",
    "        return 0"
   ]
  },
  {
   "cell_type": "code",
   "execution_count": 17,
   "id": "ce472ad9-ccf1-419b-b67e-57b29e9669f7",
   "metadata": {},
   "outputs": [
    {
     "data": {
      "text/html": [
       "<div>\n",
       "<style scoped>\n",
       "    .dataframe tbody tr th:only-of-type {\n",
       "        vertical-align: middle;\n",
       "    }\n",
       "\n",
       "    .dataframe tbody tr th {\n",
       "        vertical-align: top;\n",
       "    }\n",
       "\n",
       "    .dataframe thead th {\n",
       "        text-align: right;\n",
       "    }\n",
       "</style>\n",
       "<table border=\"1\" class=\"dataframe\">\n",
       "  <thead>\n",
       "    <tr style=\"text-align: right;\">\n",
       "      <th></th>\n",
       "      <th>customer_id</th>\n",
       "      <th>register_date</th>\n",
       "      <th>last_visit</th>\n",
       "      <th>age</th>\n",
       "      <th>duration</th>\n",
       "      <th>churn</th>\n",
       "    </tr>\n",
       "  </thead>\n",
       "  <tbody>\n",
       "    <tr>\n",
       "      <th>0</th>\n",
       "      <td>1001</td>\n",
       "      <td>2023-09-29</td>\n",
       "      <td>2023-10-21</td>\n",
       "      <td>27</td>\n",
       "      <td>3</td>\n",
       "      <td>1</td>\n",
       "    </tr>\n",
       "    <tr>\n",
       "      <th>1</th>\n",
       "      <td>1007</td>\n",
       "      <td>2023-11-28</td>\n",
       "      <td>2023-12-19</td>\n",
       "      <td>35</td>\n",
       "      <td>3</td>\n",
       "      <td>1</td>\n",
       "    </tr>\n",
       "    <tr>\n",
       "      <th>2</th>\n",
       "      <td>1011</td>\n",
       "      <td>2024-02-25</td>\n",
       "      <td>2024-03-20</td>\n",
       "      <td>28</td>\n",
       "      <td>3</td>\n",
       "      <td>1</td>\n",
       "    </tr>\n",
       "    <tr>\n",
       "      <th>3</th>\n",
       "      <td>1012</td>\n",
       "      <td>2023-07-30</td>\n",
       "      <td>2023-08-23</td>\n",
       "      <td>22</td>\n",
       "      <td>3</td>\n",
       "      <td>1</td>\n",
       "    </tr>\n",
       "    <tr>\n",
       "      <th>4</th>\n",
       "      <td>1033</td>\n",
       "      <td>2023-10-03</td>\n",
       "      <td>2023-10-22</td>\n",
       "      <td>29</td>\n",
       "      <td>2</td>\n",
       "      <td>1</td>\n",
       "    </tr>\n",
       "    <tr>\n",
       "      <th>...</th>\n",
       "      <td>...</td>\n",
       "      <td>...</td>\n",
       "      <td>...</td>\n",
       "      <td>...</td>\n",
       "      <td>...</td>\n",
       "      <td>...</td>\n",
       "    </tr>\n",
       "    <tr>\n",
       "      <th>1471</th>\n",
       "      <td>2462</td>\n",
       "      <td>2023-06-10</td>\n",
       "      <td>2024-08-21</td>\n",
       "      <td>33</td>\n",
       "      <td>62</td>\n",
       "      <td>0</td>\n",
       "    </tr>\n",
       "    <tr>\n",
       "      <th>1472</th>\n",
       "      <td>2465</td>\n",
       "      <td>2022-12-29</td>\n",
       "      <td>2024-05-11</td>\n",
       "      <td>41</td>\n",
       "      <td>71</td>\n",
       "      <td>0</td>\n",
       "    </tr>\n",
       "    <tr>\n",
       "      <th>1473</th>\n",
       "      <td>2467</td>\n",
       "      <td>2023-07-27</td>\n",
       "      <td>2024-09-14</td>\n",
       "      <td>39</td>\n",
       "      <td>59</td>\n",
       "      <td>0</td>\n",
       "    </tr>\n",
       "    <tr>\n",
       "      <th>1474</th>\n",
       "      <td>2473</td>\n",
       "      <td>2023-02-13</td>\n",
       "      <td>2024-04-02</td>\n",
       "      <td>40</td>\n",
       "      <td>59</td>\n",
       "      <td>0</td>\n",
       "    </tr>\n",
       "    <tr>\n",
       "      <th>1475</th>\n",
       "      <td>2474</td>\n",
       "      <td>2023-01-03</td>\n",
       "      <td>2024-04-29</td>\n",
       "      <td>37</td>\n",
       "      <td>68</td>\n",
       "      <td>0</td>\n",
       "    </tr>\n",
       "  </tbody>\n",
       "</table>\n",
       "<p>1476 rows × 6 columns</p>\n",
       "</div>"
      ],
      "text/plain": [
       "      customer_id register_date last_visit  age  duration  churn\n",
       "0            1001    2023-09-29 2023-10-21   27         3      1\n",
       "1            1007    2023-11-28 2023-12-19   35         3      1\n",
       "2            1011    2024-02-25 2024-03-20   28         3      1\n",
       "3            1012    2023-07-30 2023-08-23   22         3      1\n",
       "4            1033    2023-10-03 2023-10-22   29         2      1\n",
       "...           ...           ...        ...  ...       ...    ...\n",
       "1471         2462    2023-06-10 2024-08-21   33        62      0\n",
       "1472         2465    2022-12-29 2024-05-11   41        71      0\n",
       "1473         2467    2023-07-27 2024-09-14   39        59      0\n",
       "1474         2473    2023-02-13 2024-04-02   40        59      0\n",
       "1475         2474    2023-01-03 2024-04-29   37        68      0\n",
       "\n",
       "[1476 rows x 6 columns]"
      ]
     },
     "execution_count": 17,
     "metadata": {},
     "output_type": "execute_result"
    }
   ],
   "source": [
    "dataset['churn'] = dataset['last_visit'].apply(churn)\n",
    "dataset"
   ]
  },
  {
   "cell_type": "code",
   "execution_count": 18,
   "id": "1ceb07a6-328c-4ac4-bcfa-1be72b87667c",
   "metadata": {},
   "outputs": [],
   "source": [
    "dataset_clean = dataset[['age','duration','churn']].copy()"
   ]
  },
  {
   "cell_type": "markdown",
   "id": "ae925a59-055b-4f4b-b6bf-93bdb339bcec",
   "metadata": {},
   "source": [
    "## Modeling"
   ]
  },
  {
   "cell_type": "code",
   "execution_count": 19,
   "id": "50d6b6c3-0b8f-4ff5-a5ea-9b67603f3b47",
   "metadata": {},
   "outputs": [],
   "source": [
    "kmf = lifelines.KaplanMeierFitter()"
   ]
  },
  {
   "cell_type": "code",
   "execution_count": 20,
   "id": "19014d74-0796-4b47-bbf1-13fe7a34b986",
   "metadata": {},
   "outputs": [
    {
     "data": {
      "text/plain": [
       "<lifelines.KaplanMeierFitter:\"KM_estimate\", fitted with 1476 total observations, 645 right-censored observations>"
      ]
     },
     "execution_count": 20,
     "metadata": {},
     "output_type": "execute_result"
    }
   ],
   "source": [
    "kmf.fit(durations=dataset_clean['duration'],\n",
    "        event_observed=dataset_clean['churn'])"
   ]
  },
  {
   "cell_type": "code",
   "execution_count": 28,
   "id": "a7e5d9c0-42a1-4caf-831a-00f385cc34c9",
   "metadata": {},
   "outputs": [
    {
     "data": {
      "image/png": "[encoded data removed]",
      "text/plain": [
       "<Figure size 1600x500 with 1 Axes>"
      ]
     },
     "metadata": {},
     "output_type": "display_data"
    }
   ],
   "source": [
    "plt.figure(figsize=(16,5))\n",
    "kmf.plot()\n",
    "plt.show()"
   ]
  },
  {
   "cell_type": "code",
   "execution_count": 29,
   "id": "eee0d6e8-d3e1-41e5-9ad8-32bbf9ea40f5",
   "metadata": {},
   "outputs": [],
   "source": [
    "cphf = lifelines.CoxPHFitter()"
   ]
  },
  {
   "cell_type": "code",
   "execution_count": 31,
   "id": "9ec9ff60-120c-4976-9177-717062eff072",
   "metadata": {},
   "outputs": [
    {
     "data": {
      "text/plain": [
       "<lifelines.CoxPHFitter: fitted with 1476 total observations, 645 right-censored observations>"
      ]
     },
     "execution_count": 31,
     "metadata": {},
     "output_type": "execute_result"
    }
   ],
   "source": [
    "cphf.fit(dataset_clean, duration_col='duration',event_col='churn')"
   ]
  },
  {
   "cell_type": "code",
   "execution_count": 39,
   "id": "55d968cf-3677-4567-8f62-b2f0bf19b2d7",
   "metadata": {},
   "outputs": [
    {
     "data": {
      "text/html": [
       "<div>\n",
       "<style scoped>\n",
       "    .dataframe tbody tr th:only-of-type {\n",
       "        vertical-align: middle;\n",
       "    }\n",
       "\n",
       "    .dataframe tbody tr th {\n",
       "        vertical-align: top;\n",
       "    }\n",
       "\n",
       "    .dataframe thead th {\n",
       "        text-align: right;\n",
       "    }\n",
       "</style>\n",
       "<table border=\"1\" class=\"dataframe\">\n",
       "  <tbody>\n",
       "    <tr>\n",
       "      <th>model</th>\n",
       "      <td>lifelines.CoxPHFitter</td>\n",
       "    </tr>\n",
       "    <tr>\n",
       "      <th>duration col</th>\n",
       "      <td>'duration'</td>\n",
       "    </tr>\n",
       "    <tr>\n",
       "      <th>event col</th>\n",
       "      <td>'churn'</td>\n",
       "    </tr>\n",
       "    <tr>\n",
       "      <th>baseline estimation</th>\n",
       "      <td>breslow</td>\n",
       "    </tr>\n",
       "    <tr>\n",
       "      <th>number of observations</th>\n",
       "      <td>1476</td>\n",
       "    </tr>\n",
       "    <tr>\n",
       "      <th>number of events observed</th>\n",
       "      <td>831</td>\n",
       "    </tr>\n",
       "    <tr>\n",
       "      <th>partial log-likelihood</th>\n",
       "      <td>-5049.82</td>\n",
       "    </tr>\n",
       "    <tr>\n",
       "      <th>time fit was run</th>\n",
       "      <td>2025-01-10 15:32:04 UTC</td>\n",
       "    </tr>\n",
       "  </tbody>\n",
       "</table>\n",
       "</div><table border=\"1\" class=\"dataframe\">\n",
       "  <thead>\n",
       "    <tr style=\"text-align: right;\">\n",
       "      <th style=\"min-width: 12px;\"></th>\n",
       "      <th style=\"min-width: 12px;\">coef</th>\n",
       "      <th style=\"min-width: 12px;\">exp(coef)</th>\n",
       "      <th style=\"min-width: 12px;\">se(coef)</th>\n",
       "      <th style=\"min-width: 12px;\">coef lower 95%</th>\n",
       "      <th style=\"min-width: 12px;\">coef upper 95%</th>\n",
       "      <th style=\"min-width: 12px;\">exp(coef) lower 95%</th>\n",
       "      <th style=\"min-width: 12px;\">exp(coef) upper 95%</th>\n",
       "      <th style=\"min-width: 12px;\">cmp to</th>\n",
       "      <th style=\"min-width: 12px;\">z</th>\n",
       "      <th style=\"min-width: 12px;\">p</th>\n",
       "      <th style=\"min-width: 12px;\">-log2(p)</th>\n",
       "    </tr>\n",
       "  </thead>\n",
       "  <tbody>\n",
       "    <tr>\n",
       "      <th>age</th>\n",
       "      <td>-0.35</td>\n",
       "      <td>0.71</td>\n",
       "      <td>0.01</td>\n",
       "      <td>-0.37</td>\n",
       "      <td>-0.33</td>\n",
       "      <td>0.69</td>\n",
       "      <td>0.72</td>\n",
       "      <td>0.00</td>\n",
       "      <td>-34.64</td>\n",
       "      <td>&lt;0.005</td>\n",
       "      <td>871.11</td>\n",
       "    </tr>\n",
       "  </tbody>\n",
       "</table><br><div>\n",
       "<style scoped>\n",
       "    .dataframe tbody tr th:only-of-type {\n",
       "        vertical-align: middle;\n",
       "    }\n",
       "\n",
       "    .dataframe tbody tr th {\n",
       "        vertical-align: top;\n",
       "    }\n",
       "\n",
       "    .dataframe thead th {\n",
       "        text-align: right;\n",
       "    }\n",
       "</style>\n",
       "<table border=\"1\" class=\"dataframe\">\n",
       "  <tbody>\n",
       "    <tr>\n",
       "      <th>Concordance</th>\n",
       "      <td>0.86</td>\n",
       "    </tr>\n",
       "    <tr>\n",
       "      <th>Partial AIC</th>\n",
       "      <td>10101.63</td>\n",
       "    </tr>\n",
       "    <tr>\n",
       "      <th>log-likelihood ratio test</th>\n",
       "      <td>1433.13 on 1 df</td>\n",
       "    </tr>\n",
       "    <tr>\n",
       "      <th>-log2(p) of ll-ratio test</th>\n",
       "      <td>inf</td>\n",
       "    </tr>\n",
       "  </tbody>\n",
       "</table>\n",
       "</div>"
      ],
      "text/latex": [
       "\\begin{tabular}{lrrrrrrrrrrr}\n",
       " & coef & exp(coef) & se(coef) & coef lower 95% & coef upper 95% & exp(coef) lower 95% & exp(coef) upper 95% & cmp to & z & p & -log2(p) \\\\\n",
       "covariate &  &  &  &  &  &  &  &  &  &  &  \\\\\n",
       "age & -0.35 & 0.71 & 0.01 & -0.37 & -0.33 & 0.69 & 0.72 & 0.00 & -34.64 & 0.00 & 871.11 \\\\\n",
       "\\end{tabular}\n"
      ],
      "text/plain": [
       "<lifelines.CoxPHFitter: fitted with 1476 total observations, 645 right-censored observations>\n",
       "             duration col = 'duration'\n",
       "                event col = 'churn'\n",
       "      baseline estimation = breslow\n",
       "   number of observations = 1476\n",
       "number of events observed = 831\n",
       "   partial log-likelihood = -5049.82\n",
       "         time fit was run = 2025-01-10 15:32:04 UTC\n",
       "\n",
       "---\n",
       "           coef exp(coef)  se(coef)  coef lower 95%  coef upper 95% exp(coef) lower 95% exp(coef) upper 95%\n",
       "covariate                                                                                                  \n",
       "age       -0.35      0.71      0.01           -0.37           -0.33                0.69                0.72\n",
       "\n",
       "           cmp to      z      p  -log2(p)\n",
       "covariate                                \n",
       "age          0.00 -34.64 <0.005    871.11\n",
       "---\n",
       "Concordance = 0.86\n",
       "Partial AIC = 10101.63\n",
       "log-likelihood ratio test = 1433.13 on 1 df\n",
       "-log2(p) of ll-ratio test = inf"
      ]
     },
     "metadata": {},
     "output_type": "display_data"
    }
   ],
   "source": [
    "cphf.print_summary()"
   ]
  },
  {
   "cell_type": "markdown",
   "id": "ba6cf7ee-656a-4c43-b3a7-ddaf4d7f0674",
   "metadata": {},
   "source": [
    "## Insights"
   ]
  },
  {
   "cell_type": "markdown",
   "id": "265a769b-ab59-461e-932d-3dfeaa3f916e",
   "metadata": {},
   "source": [
    "### Interpretation and Reporting"
   ]
  },
  {
   "cell_type": "code",
   "execution_count": null,
   "id": "36317cd0-aa71-40e7-a1dc-bdb871838c5d",
   "metadata": {},
   "outputs": [],
   "source": []
  },
  {
   "cell_type": "code",
   "execution_count": null,
   "id": "22a17b0f-3991-43d3-825c-71fb0490a626",
   "metadata": {},
   "outputs": [],
   "source": []
  },
  {
   "cell_type": "markdown",
   "id": "886e0a3f-c7ca-40ac-ba04-14d89fe46fe0",
   "metadata": {},
   "source": [
    "### Action"
   ]
  },
  {
   "cell_type": "code",
   "execution_count": null,
   "id": "44e83f85-e48a-4a86-9a84-2edc163191da",
   "metadata": {},
   "outputs": [],
   "source": []
  },
  {
   "cell_type": "code",
   "execution_count": null,
   "id": "bd4f585d-3eca-487e-9774-d36ec50599c2",
   "metadata": {},
   "outputs": [],
   "source": []
  }
 ],
 "metadata": {
  "kernelspec": {
   "display_name": "Python 3 (ipykernel)",
   "language": "python",
   "name": "python3"
  },
  "language_info": {
   "codemirror_mode": {
    "name": "ipython",
    "version": 3
   },
   "file_extension": ".py",
   "mimetype": "text/x-python",
   "name": "python",
   "nbconvert_exporter": "python",
   "pygments_lexer": "ipython3",
   "version": "3.11.2"
  }
 },
 "nbformat": 4,
 "nbformat_minor": 5
}
