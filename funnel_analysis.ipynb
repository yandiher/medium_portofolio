{
 "cells": [
  {
   "cell_type": "markdown",
   "id": "2a7c961e-087b-4acc-b670-6797479cfce4",
   "metadata": {},
   "source": [
    "# Portofolio:"
   ]
  },
  {
   "cell_type": "markdown",
   "id": "9e4e8f25-b855-40f4-9451-2dcfab2f1b95",
   "metadata": {},
   "source": [
    "# Business Understanding"
   ]
  },
  {
   "cell_type": "markdown",
   "id": "9a0524ce-5e18-4868-a709-9d70dc3034af",
   "metadata": {},
   "source": [
    "## Introduction\n",
    "\n",
    "The Team marketing has conducted a marketing strategy using discount 99% for first month after sign up in fitness center to attract new customers. This customer acquisition strategy used the top five popular social media platform. Our main goal for this analysis is to know how much the cost per acquisition using funnel analysis. Few things we need to know:\n",
    "- The CPM: IDR65.000\n",
    "- Impression: 990.000"
   ]
  },
  {
   "cell_type": "code",
   "execution_count": 1,
   "id": "28f706b2-ec50-41f9-9112-576761665c9b",
   "metadata": {},
   "outputs": [],
   "source": [
    "import pandas as pd"
   ]
  },
  {
   "cell_type": "code",
   "execution_count": null,
   "id": "566b31dc-a0a7-43fd-8412-0e164a67c82e",
   "metadata": {},
   "outputs": [],
   "source": []
  },
  {
   "cell_type": "markdown",
   "id": "e5b7c2b9-a6ab-473f-8e0e-fc74be9e2602",
   "metadata": {},
   "source": [
    "## Objectives\n",
    "\n",
    "There are metrics and KPI we need to calculate, like:\n",
    "- Impression per click\n",
    "- Total user reach\n",
    "- Impression per user\n",
    "- User per click\n",
    "- Click per message\n",
    "- Message per visit\n",
    "- Visit per closing\n",
    "- cost per acquisition"
   ]
  },
  {
   "cell_type": "code",
   "execution_count": null,
   "id": "6063a4db-4add-460c-bce3-76b4fc247ade",
   "metadata": {},
   "outputs": [],
   "source": []
  },
  {
   "cell_type": "code",
   "execution_count": null,
   "id": "3da77c0d-9c67-449c-9aa6-367802dc72ad",
   "metadata": {},
   "outputs": [],
   "source": []
  },
  {
   "cell_type": "markdown",
   "id": "b57f8c37-e3a1-4a93-87a0-87f2d800e8dc",
   "metadata": {},
   "source": [
    "## Tools and Dataset Needed\n",
    "\n",
    "The tools need for this analysis is Python Interpreter, Python library(numpy, pandas, matplotlib, seaborn), JupyterLab. We use the fitness acquisition csv dataset for this analysis. This dataset has four variables and those are id, platform, date, and action during the date."
   ]
  },
  {
   "cell_type": "code",
   "execution_count": 2,
   "id": "7a15506d-5e42-4dda-9d82-d0d70b83d9af",
   "metadata": {},
   "outputs": [
    {
     "data": {
      "text/html": [
       "<div>\n",
       "<style scoped>\n",
       "    .dataframe tbody tr th:only-of-type {\n",
       "        vertical-align: middle;\n",
       "    }\n",
       "\n",
       "    .dataframe tbody tr th {\n",
       "        vertical-align: top;\n",
       "    }\n",
       "\n",
       "    .dataframe thead th {\n",
       "        text-align: right;\n",
       "    }\n",
       "</style>\n",
       "<table border=\"1\" class=\"dataframe\">\n",
       "  <thead>\n",
       "    <tr style=\"text-align: right;\">\n",
       "      <th></th>\n",
       "      <th>id</th>\n",
       "      <th>platform</th>\n",
       "      <th>date</th>\n",
       "      <th>action</th>\n",
       "    </tr>\n",
       "  </thead>\n",
       "  <tbody>\n",
       "    <tr>\n",
       "      <th>0</th>\n",
       "      <td>1000001</td>\n",
       "      <td>instagram</td>\n",
       "      <td>2024-01-03</td>\n",
       "      <td>impression</td>\n",
       "    </tr>\n",
       "    <tr>\n",
       "      <th>1</th>\n",
       "      <td>1000004</td>\n",
       "      <td>facebook</td>\n",
       "      <td>2024-01-01</td>\n",
       "      <td>impression</td>\n",
       "    </tr>\n",
       "    <tr>\n",
       "      <th>2</th>\n",
       "      <td>1000006</td>\n",
       "      <td>linkedin</td>\n",
       "      <td>2024-01-04</td>\n",
       "      <td>impression</td>\n",
       "    </tr>\n",
       "    <tr>\n",
       "      <th>3</th>\n",
       "      <td>1000007</td>\n",
       "      <td>instagram</td>\n",
       "      <td>2024-01-04</td>\n",
       "      <td>impression</td>\n",
       "    </tr>\n",
       "    <tr>\n",
       "      <th>4</th>\n",
       "      <td>1000008</td>\n",
       "      <td>facebook</td>\n",
       "      <td>2024-01-01</td>\n",
       "      <td>impression</td>\n",
       "    </tr>\n",
       "  </tbody>\n",
       "</table>\n",
       "</div>"
      ],
      "text/plain": [
       "        id   platform        date      action\n",
       "0  1000001  instagram  2024-01-03  impression\n",
       "1  1000004   facebook  2024-01-01  impression\n",
       "2  1000006   linkedin  2024-01-04  impression\n",
       "3  1000007  instagram  2024-01-04  impression\n",
       "4  1000008   facebook  2024-01-01  impression"
      ]
     },
     "execution_count": 2,
     "metadata": {},
     "output_type": "execute_result"
    }
   ],
   "source": [
    "pd.read_csv('data/fitness_acquisition.csv').head()"
   ]
  },
  {
   "cell_type": "code",
   "execution_count": null,
   "id": "630c270a-b89b-4489-bacb-13c6cee0e349",
   "metadata": {},
   "outputs": [],
   "source": []
  },
  {
   "cell_type": "markdown",
   "id": "6aba199e-0557-439f-a608-33602246086b",
   "metadata": {},
   "source": [
    "## Methodology\n",
    "\n",
    "We will use AIDA concept for this analysis with some modification to fit the problem. It's AIDCA (Awareness, Interest, Desire, Conviction, and Action). In this dataset, the action variables follow this term:\n",
    "- Awareness = Impression\n",
    "- Interest = Click\n",
    "- Desire = Message(DM)\n",
    "- Conviction = Visit\n",
    "- Action = Closing"
   ]
  },
  {
   "cell_type": "code",
   "execution_count": null,
   "id": "4d5bf48d-6c2b-456e-8b37-a186af734b60",
   "metadata": {},
   "outputs": [],
   "source": []
  },
  {
   "cell_type": "code",
   "execution_count": null,
   "id": "87b5ebe4-8bb7-4192-a0b3-74e287c2e499",
   "metadata": {},
   "outputs": [],
   "source": []
  },
  {
   "cell_type": "markdown",
   "id": "56f3994b-f6b5-4cbd-87f6-63332b0107c8",
   "metadata": {},
   "source": [
    "# Data Understanding"
   ]
  },
  {
   "cell_type": "markdown",
   "id": "7036b50f-5891-4d29-b5de-575e30217914",
   "metadata": {},
   "source": [
    "## Data Acquisition"
   ]
  },
  {
   "cell_type": "code",
   "execution_count": 3,
   "id": "89041653-860d-4903-ac5c-af2d8db917de",
   "metadata": {},
   "outputs": [],
   "source": [
    "# load library\n",
    "import numpy as np\n",
    "import pandas as pd\n",
    "import matplotlib.pyplot as plt\n",
    "import seaborn as sns"
   ]
  },
  {
   "cell_type": "code",
   "execution_count": 4,
   "id": "edd2e10f-cdda-41bb-b28d-232287f0e4fe",
   "metadata": {},
   "outputs": [],
   "source": [
    "dataset = pd.read_csv('data/fitness_acquisition.csv')"
   ]
  },
  {
   "cell_type": "code",
   "execution_count": 5,
   "id": "93258bcf-2092-4eb9-98eb-b754f68e5845",
   "metadata": {},
   "outputs": [
    {
     "name": "stdout",
     "output_type": "stream",
     "text": [
      "        id   platform        date      action\n",
      "0  1000001  instagram  2024-01-03  impression\n",
      "1  1000004   facebook  2024-01-01  impression\n",
      "2  1000006   linkedin  2024-01-04  impression\n",
      "3  1000007  instagram  2024-01-04  impression\n",
      "4  1000008   facebook  2024-01-01  impression\n"
     ]
    }
   ],
   "source": [
    "print(dataset.head())"
   ]
  },
  {
   "cell_type": "markdown",
   "id": "73daa88b-23f4-4708-8b6c-8d4e60a7e6b6",
   "metadata": {},
   "source": [
    "## Data Profiling"
   ]
  },
  {
   "cell_type": "code",
   "execution_count": 6,
   "id": "31e63c38-78a8-4615-9192-0a8f168212a5",
   "metadata": {},
   "outputs": [
    {
     "name": "stdout",
     "output_type": "stream",
     "text": [
      "<class 'pandas.core.frame.DataFrame'>\n",
      "RangeIndex: 1059786 entries, 0 to 1059785\n",
      "Data columns (total 4 columns):\n",
      " #   Column    Non-Null Count    Dtype \n",
      "---  ------    --------------    ----- \n",
      " 0   id        1059786 non-null  int64 \n",
      " 1   platform  1059786 non-null  object\n",
      " 2   date      1059786 non-null  object\n",
      " 3   action    1059786 non-null  object\n",
      "dtypes: int64(1), object(3)\n",
      "memory usage: 32.3+ MB\n"
     ]
    }
   ],
   "source": [
    "# dataset info\n",
    "dataset.info()"
   ]
  },
  {
   "cell_type": "code",
   "execution_count": 7,
   "id": "139e00ba-e68d-45a7-b83c-50319919debe",
   "metadata": {},
   "outputs": [
    {
     "data": {
      "text/plain": [
       "id          0\n",
       "platform    0\n",
       "date        0\n",
       "action      0\n",
       "dtype: int64"
      ]
     },
     "execution_count": 7,
     "metadata": {},
     "output_type": "execute_result"
    }
   ],
   "source": [
    "# missing values\n",
    "dataset.isna().sum()"
   ]
  },
  {
   "cell_type": "code",
   "execution_count": 10,
   "id": "fbbd9ba3-9e34-4099-b398-3d8771ccef6d",
   "metadata": {},
   "outputs": [
    {
     "data": {
      "text/plain": [
       "np.int64(679203)"
      ]
     },
     "execution_count": 10,
     "metadata": {},
     "output_type": "execute_result"
    }
   ],
   "source": [
    "# duplicated values\n",
    "dataset.duplicated().sum()"
   ]
  },
  {
   "cell_type": "markdown",
   "id": "4d88e2f5-1185-4db1-b589-0e61d29ca66d",
   "metadata": {},
   "source": [
    "This problem maybe happens because some records happen twice or more."
   ]
  },
  {
   "cell_type": "code",
   "execution_count": 16,
   "id": "42a9ecfb-6ca1-4241-9738-fde2425043c4",
   "metadata": {},
   "outputs": [],
   "source": [
    "# correct wrong format\n",
    "dataset['date'] = pd.to_datetime(dataset['date'])"
   ]
  },
  {
   "cell_type": "code",
   "execution_count": 26,
   "id": "f2b1c14f-cb09-40b3-a4ae-4d9a4522f615",
   "metadata": {},
   "outputs": [],
   "source": [
    "dataset['id'] = dataset['id'].astype(int).astype(str)"
   ]
  },
  {
   "cell_type": "markdown",
   "id": "285e0d54-2085-423d-8b23-d0f02935588b",
   "metadata": {},
   "source": [
    "## Descriptive Statistics"
   ]
  },
  {
   "cell_type": "code",
   "execution_count": 27,
   "id": "63eb4a77-f1fb-4cae-83a3-a6089416d614",
   "metadata": {},
   "outputs": [
    {
     "name": "stdout",
     "output_type": "stream",
     "text": [
      "<class 'pandas.core.frame.DataFrame'>\n",
      "RangeIndex: 1059786 entries, 0 to 1059785\n",
      "Data columns (total 4 columns):\n",
      " #   Column    Non-Null Count    Dtype         \n",
      "---  ------    --------------    -----         \n",
      " 0   id        1059786 non-null  object        \n",
      " 1   platform  1059786 non-null  object        \n",
      " 2   date      1059786 non-null  datetime64[ns]\n",
      " 3   action    1059786 non-null  object        \n",
      "dtypes: datetime64[ns](1), object(3)\n",
      "memory usage: 32.3+ MB\n"
     ]
    }
   ],
   "source": [
    "dataset.info()"
   ]
  },
  {
   "cell_type": "code",
   "execution_count": 28,
   "id": "c6db60cd-3dad-4b39-b558-b99313b1447e",
   "metadata": {},
   "outputs": [
    {
     "data": {
      "text/html": [
       "<div>\n",
       "<style scoped>\n",
       "    .dataframe tbody tr th:only-of-type {\n",
       "        vertical-align: middle;\n",
       "    }\n",
       "\n",
       "    .dataframe tbody tr th {\n",
       "        vertical-align: top;\n",
       "    }\n",
       "\n",
       "    .dataframe thead th {\n",
       "        text-align: right;\n",
       "    }\n",
       "</style>\n",
       "<table border=\"1\" class=\"dataframe\">\n",
       "  <thead>\n",
       "    <tr style=\"text-align: right;\">\n",
       "      <th></th>\n",
       "      <th>id</th>\n",
       "      <th>platform</th>\n",
       "      <th>date</th>\n",
       "      <th>action</th>\n",
       "    </tr>\n",
       "  </thead>\n",
       "  <tbody>\n",
       "    <tr>\n",
       "      <th>count</th>\n",
       "      <td>1059786</td>\n",
       "      <td>1059786</td>\n",
       "      <td>1059786</td>\n",
       "      <td>1059786</td>\n",
       "    </tr>\n",
       "    <tr>\n",
       "      <th>unique</th>\n",
       "      <td>90000</td>\n",
       "      <td>5</td>\n",
       "      <td>NaN</td>\n",
       "      <td>5</td>\n",
       "    </tr>\n",
       "    <tr>\n",
       "      <th>top</th>\n",
       "      <td>1075685</td>\n",
       "      <td>facebook</td>\n",
       "      <td>NaN</td>\n",
       "      <td>impression</td>\n",
       "    </tr>\n",
       "    <tr>\n",
       "      <th>freq</th>\n",
       "      <td>38</td>\n",
       "      <td>381834</td>\n",
       "      <td>NaN</td>\n",
       "      <td>990000</td>\n",
       "    </tr>\n",
       "    <tr>\n",
       "      <th>mean</th>\n",
       "      <td>NaN</td>\n",
       "      <td>NaN</td>\n",
       "      <td>2024-01-02 12:52:52.661649408</td>\n",
       "      <td>NaN</td>\n",
       "    </tr>\n",
       "    <tr>\n",
       "      <th>min</th>\n",
       "      <td>NaN</td>\n",
       "      <td>NaN</td>\n",
       "      <td>2024-01-01 00:00:00</td>\n",
       "      <td>NaN</td>\n",
       "    </tr>\n",
       "    <tr>\n",
       "      <th>25%</th>\n",
       "      <td>NaN</td>\n",
       "      <td>NaN</td>\n",
       "      <td>2024-01-02 00:00:00</td>\n",
       "      <td>NaN</td>\n",
       "    </tr>\n",
       "    <tr>\n",
       "      <th>50%</th>\n",
       "      <td>NaN</td>\n",
       "      <td>NaN</td>\n",
       "      <td>2024-01-03 00:00:00</td>\n",
       "      <td>NaN</td>\n",
       "    </tr>\n",
       "    <tr>\n",
       "      <th>75%</th>\n",
       "      <td>NaN</td>\n",
       "      <td>NaN</td>\n",
       "      <td>2024-01-04 00:00:00</td>\n",
       "      <td>NaN</td>\n",
       "    </tr>\n",
       "    <tr>\n",
       "      <th>max</th>\n",
       "      <td>NaN</td>\n",
       "      <td>NaN</td>\n",
       "      <td>2024-01-12 00:00:00</td>\n",
       "      <td>NaN</td>\n",
       "    </tr>\n",
       "  </tbody>\n",
       "</table>\n",
       "</div>"
      ],
      "text/plain": [
       "             id  platform                           date      action\n",
       "count   1059786   1059786                        1059786     1059786\n",
       "unique    90000         5                            NaN           5\n",
       "top     1075685  facebook                            NaN  impression\n",
       "freq         38    381834                            NaN      990000\n",
       "mean        NaN       NaN  2024-01-02 12:52:52.661649408         NaN\n",
       "min         NaN       NaN            2024-01-01 00:00:00         NaN\n",
       "25%         NaN       NaN            2024-01-02 00:00:00         NaN\n",
       "50%         NaN       NaN            2024-01-03 00:00:00         NaN\n",
       "75%         NaN       NaN            2024-01-04 00:00:00         NaN\n",
       "max         NaN       NaN            2024-01-12 00:00:00         NaN"
      ]
     },
     "execution_count": 28,
     "metadata": {},
     "output_type": "execute_result"
    }
   ],
   "source": [
    "dataset.describe(include='all')"
   ]
  },
  {
   "cell_type": "code",
   "execution_count": 49,
   "id": "39ef686b-1352-401d-80f0-539d7edc23c3",
   "metadata": {},
   "outputs": [
    {
     "data": {
      "text/plain": [
       "id\n",
       "1075685    38\n",
       "1023730    37\n",
       "1099075    37\n",
       "1057861    37\n",
       "1040609    36\n",
       "           ..\n",
       "1023677     1\n",
       "1023674     1\n",
       "1000077     1\n",
       "1048965     1\n",
       "1099943     1\n",
       "Name: count, Length: 90000, dtype: int64"
      ]
     },
     "execution_count": 49,
     "metadata": {},
     "output_type": "execute_result"
    }
   ],
   "source": [
    "dataset['id'].value_counts()"
   ]
  },
  {
   "cell_type": "code",
   "execution_count": 34,
   "id": "5c57f2b4-9e7a-4004-bf13-8b731dfeccbd",
   "metadata": {},
   "outputs": [
    {
     "data": {
      "text/plain": [
       "platform\n",
       "facebook     381834\n",
       "instagram    255000\n",
       "linkedin     185359\n",
       "tiktok       172411\n",
       "youtube       65182\n",
       "Name: count, dtype: int64"
      ]
     },
     "execution_count": 34,
     "metadata": {},
     "output_type": "execute_result"
    }
   ],
   "source": [
    "dataset['platform'].value_counts()"
   ]
  },
  {
   "cell_type": "code",
   "execution_count": 47,
   "id": "be47fa82-583b-4fb9-bb0f-791723a5e37e",
   "metadata": {},
   "outputs": [
    {
     "data": {
      "text/plain": [
       "date\n",
       "2024-01-01    260299\n",
       "2024-01-02    263376\n",
       "2024-01-03    264100\n",
       "2024-01-04    264436\n",
       "2024-01-05      3131\n",
       "2024-01-06       641\n",
       "2024-01-07      1066\n",
       "2024-01-08      1099\n",
       "2024-01-09       988\n",
       "2024-01-10       520\n",
       "2024-01-11       121\n",
       "2024-01-12         9\n",
       "Name: count, dtype: int64"
      ]
     },
     "execution_count": 47,
     "metadata": {},
     "output_type": "execute_result"
    }
   ],
   "source": [
    "dataset['date'].value_counts().sort_index()"
   ]
  },
  {
   "cell_type": "markdown",
   "id": "8abaf7c1-40c8-4c3b-be1a-ef072cf30caa",
   "metadata": {},
   "source": [
    "We can see that the platform advertises on the first four days."
   ]
  },
  {
   "cell_type": "code",
   "execution_count": 48,
   "id": "f91b18fb-9995-4e81-9645-b1f6c6bb7cea",
   "metadata": {},
   "outputs": [
    {
     "data": {
      "text/plain": [
       "action\n",
       "impression    990000\n",
       "click          40950\n",
       "message        22860\n",
       "visit           4500\n",
       "close           1476\n",
       "Name: count, dtype: int64"
      ]
     },
     "execution_count": 48,
     "metadata": {},
     "output_type": "execute_result"
    }
   ],
   "source": [
    "dataset['action'].value_counts()"
   ]
  },
  {
   "cell_type": "markdown",
   "id": "059d7121-f192-40c2-bf78-5f8c432f6bc8",
   "metadata": {},
   "source": [
    "# Data Preprocessing"
   ]
  },
  {
   "cell_type": "code",
   "execution_count": 50,
   "id": "8fc8c529-b0e3-4cc4-8b01-a6bbd1b78de1",
   "metadata": {},
   "outputs": [],
   "source": [
    "def ratio(x,y):\n",
    "    \"\"\"\n",
    "    x per y\n",
    "    \"\"\"\n",
    "    result = x/y \n",
    "    return result"
   ]
  },
  {
   "cell_type": "code",
   "execution_count": 86,
   "id": "2874b3de-eecf-4706-b4b1-b18518b65752",
   "metadata": {},
   "outputs": [],
   "source": [
    "total_impression = len(dataset[dataset['action'] == 'impression'])"
   ]
  },
  {
   "cell_type": "code",
   "execution_count": 90,
   "id": "5b370223-0754-4fd8-bd06-1bcd6b42b0b9",
   "metadata": {},
   "outputs": [],
   "source": [
    "total_user = len(dataset['id'].value_counts())"
   ]
  },
  {
   "cell_type": "code",
   "execution_count": 91,
   "id": "0c5a6b91-fad7-42e2-b456-8d88bcb23717",
   "metadata": {},
   "outputs": [],
   "source": [
    "pivot_table = dataset.pivot_table(\n",
    "    columns='action',\n",
    "    index='id', \n",
    "    values='date', \n",
    "    aggfunc='max')[['impression',\n",
    "                    'click',\n",
    "                    'message',\n",
    "                    'visit',\n",
    "                    'close']]"
   ]
  },
  {
   "cell_type": "markdown",
   "id": "ae925a59-055b-4f4b-b6bf-93bdb339bcec",
   "metadata": {},
   "source": [
    "# Modeling"
   ]
  },
  {
   "cell_type": "code",
   "execution_count": 92,
   "id": "50d6b6c3-0b8f-4ff5-a5ea-9b67603f3b47",
   "metadata": {},
   "outputs": [
    {
     "data": {
      "text/html": [
       "<div>\n",
       "<style scoped>\n",
       "    .dataframe tbody tr th:only-of-type {\n",
       "        vertical-align: middle;\n",
       "    }\n",
       "\n",
       "    .dataframe tbody tr th {\n",
       "        vertical-align: top;\n",
       "    }\n",
       "\n",
       "    .dataframe thead th {\n",
       "        text-align: right;\n",
       "    }\n",
       "</style>\n",
       "<table border=\"1\" class=\"dataframe\">\n",
       "  <thead>\n",
       "    <tr style=\"text-align: right;\">\n",
       "      <th>action</th>\n",
       "      <th>impression</th>\n",
       "      <th>click</th>\n",
       "      <th>message</th>\n",
       "      <th>visit</th>\n",
       "      <th>close</th>\n",
       "    </tr>\n",
       "    <tr>\n",
       "      <th>id</th>\n",
       "      <th></th>\n",
       "      <th></th>\n",
       "      <th></th>\n",
       "      <th></th>\n",
       "      <th></th>\n",
       "    </tr>\n",
       "  </thead>\n",
       "  <tbody>\n",
       "    <tr>\n",
       "      <th>1000001</th>\n",
       "      <td>2024-01-04</td>\n",
       "      <td>2024-01-03</td>\n",
       "      <td>NaT</td>\n",
       "      <td>NaT</td>\n",
       "      <td>NaT</td>\n",
       "    </tr>\n",
       "    <tr>\n",
       "      <th>1000004</th>\n",
       "      <td>2024-01-04</td>\n",
       "      <td>2024-01-01</td>\n",
       "      <td>2024-01-01</td>\n",
       "      <td>NaT</td>\n",
       "      <td>NaT</td>\n",
       "    </tr>\n",
       "    <tr>\n",
       "      <th>1000006</th>\n",
       "      <td>2024-01-04</td>\n",
       "      <td>NaT</td>\n",
       "      <td>NaT</td>\n",
       "      <td>NaT</td>\n",
       "      <td>NaT</td>\n",
       "    </tr>\n",
       "    <tr>\n",
       "      <th>1000007</th>\n",
       "      <td>2024-01-04</td>\n",
       "      <td>NaT</td>\n",
       "      <td>NaT</td>\n",
       "      <td>NaT</td>\n",
       "      <td>NaT</td>\n",
       "    </tr>\n",
       "    <tr>\n",
       "      <th>1000008</th>\n",
       "      <td>2024-01-04</td>\n",
       "      <td>2024-01-01</td>\n",
       "      <td>2024-01-01</td>\n",
       "      <td>2024-01-06</td>\n",
       "      <td>2024-01-02</td>\n",
       "    </tr>\n",
       "    <tr>\n",
       "      <th>...</th>\n",
       "      <td>...</td>\n",
       "      <td>...</td>\n",
       "      <td>...</td>\n",
       "      <td>...</td>\n",
       "      <td>...</td>\n",
       "    </tr>\n",
       "    <tr>\n",
       "      <th>1099996</th>\n",
       "      <td>2024-01-04</td>\n",
       "      <td>NaT</td>\n",
       "      <td>NaT</td>\n",
       "      <td>NaT</td>\n",
       "      <td>NaT</td>\n",
       "    </tr>\n",
       "    <tr>\n",
       "      <th>1099997</th>\n",
       "      <td>2024-01-04</td>\n",
       "      <td>NaT</td>\n",
       "      <td>NaT</td>\n",
       "      <td>NaT</td>\n",
       "      <td>NaT</td>\n",
       "    </tr>\n",
       "    <tr>\n",
       "      <th>1099998</th>\n",
       "      <td>2024-01-04</td>\n",
       "      <td>2024-01-04</td>\n",
       "      <td>2024-01-04</td>\n",
       "      <td>2024-01-10</td>\n",
       "      <td>NaT</td>\n",
       "    </tr>\n",
       "    <tr>\n",
       "      <th>1099999</th>\n",
       "      <td>2024-01-04</td>\n",
       "      <td>NaT</td>\n",
       "      <td>NaT</td>\n",
       "      <td>NaT</td>\n",
       "      <td>NaT</td>\n",
       "    </tr>\n",
       "    <tr>\n",
       "      <th>1100000</th>\n",
       "      <td>2024-01-04</td>\n",
       "      <td>2024-01-02</td>\n",
       "      <td>2024-01-03</td>\n",
       "      <td>2024-01-08</td>\n",
       "      <td>2024-01-03</td>\n",
       "    </tr>\n",
       "  </tbody>\n",
       "</table>\n",
       "<p>90000 rows × 5 columns</p>\n",
       "</div>"
      ],
      "text/plain": [
       "action  impression      click    message      visit      close\n",
       "id                                                            \n",
       "1000001 2024-01-04 2024-01-03        NaT        NaT        NaT\n",
       "1000004 2024-01-04 2024-01-01 2024-01-01        NaT        NaT\n",
       "1000006 2024-01-04        NaT        NaT        NaT        NaT\n",
       "1000007 2024-01-04        NaT        NaT        NaT        NaT\n",
       "1000008 2024-01-04 2024-01-01 2024-01-01 2024-01-06 2024-01-02\n",
       "...            ...        ...        ...        ...        ...\n",
       "1099996 2024-01-04        NaT        NaT        NaT        NaT\n",
       "1099997 2024-01-04        NaT        NaT        NaT        NaT\n",
       "1099998 2024-01-04 2024-01-04 2024-01-04 2024-01-10        NaT\n",
       "1099999 2024-01-04        NaT        NaT        NaT        NaT\n",
       "1100000 2024-01-04 2024-01-02 2024-01-03 2024-01-08 2024-01-03\n",
       "\n",
       "[90000 rows x 5 columns]"
      ]
     },
     "execution_count": 92,
     "metadata": {},
     "output_type": "execute_result"
    }
   ],
   "source": [
    "pivot_table"
   ]
  },
  {
   "cell_type": "code",
   "execution_count": 96,
   "id": "19014d74-0796-4b47-bbf1-13fe7a34b986",
   "metadata": {},
   "outputs": [
    {
     "name": "stdout",
     "output_type": "stream",
     "text": [
      "Users see the ads about 11.0 times to click the ads (if interested).\n"
     ]
    }
   ],
   "source": [
    "print(f\"Users see the ads about {ratio(total_impression, total_user)} times to click the ads (if interested).\")"
   ]
  },
  {
   "cell_type": "markdown",
   "id": "ba6cf7ee-656a-4c43-b3a7-ddaf4d7f0674",
   "metadata": {},
   "source": [
    "# Insights"
   ]
  },
  {
   "cell_type": "markdown",
   "id": "265a769b-ab59-461e-932d-3dfeaa3f916e",
   "metadata": {},
   "source": [
    "## Interpretation and Reporting"
   ]
  },
  {
   "cell_type": "code",
   "execution_count": 102,
   "id": "36317cd0-aa71-40e7-a1dc-bdb871838c5d",
   "metadata": {},
   "outputs": [
    {
     "data": {
      "image/png": "[encoded data removed]",
      "text/plain": [
       "<Figure size 640x480 with 1 Axes>"
      ]
     },
     "metadata": {},
     "output_type": "display_data"
    }
   ],
   "source": [
    "plt.pie(x=[(total_impression-total_user), total_user]);"
   ]
  },
  {
   "cell_type": "code",
   "execution_count": null,
   "id": "22a17b0f-3991-43d3-825c-71fb0490a626",
   "metadata": {},
   "outputs": [],
   "source": []
  },
  {
   "cell_type": "markdown",
   "id": "886e0a3f-c7ca-40ac-ba04-14d89fe46fe0",
   "metadata": {},
   "source": [
    "## Action"
   ]
  },
  {
   "cell_type": "code",
   "execution_count": null,
   "id": "44e83f85-e48a-4a86-9a84-2edc163191da",
   "metadata": {},
   "outputs": [],
   "source": []
  },
  {
   "cell_type": "code",
   "execution_count": null,
   "id": "bd4f585d-3eca-487e-9774-d36ec50599c2",
   "metadata": {},
   "outputs": [],
   "source": []
  },
  {
   "cell_type": "markdown",
   "id": "b423b67d-63ab-48a6-b749-43d885c63c70",
   "metadata": {},
   "source": [
    "## Further Analysis"
   ]
  },
  {
   "cell_type": "code",
   "execution_count": null,
   "id": "9c82b6f6-2687-410b-bb6d-86ef881f0ef4",
   "metadata": {},
   "outputs": [],
   "source": []
  },
  {
   "cell_type": "code",
   "execution_count": null,
   "id": "20ad63d7-334e-40a0-b2c2-908ebb98383d",
   "metadata": {},
   "outputs": [],
   "source": []
  }
 ],
 "metadata": {
  "kernelspec": {
   "display_name": "Python 3 (ipykernel)",
   "language": "python",
   "name": "python3"
  },
  "language_info": {
   "codemirror_mode": {
    "name": "ipython",
    "version": 3
   },
   "file_extension": ".py",
   "mimetype": "text/x-python",
   "name": "python",
   "nbconvert_exporter": "python",
   "pygments_lexer": "ipython3",
   "version": "3.11.2"
  }
 },
 "nbformat": 4,
 "nbformat_minor": 5
}
