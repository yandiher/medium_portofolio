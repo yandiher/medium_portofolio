{
 "cells": [
  {
   "cell_type": "code",
   "execution_count": 1,
   "id": "7aa1bf35-6f8f-4cdb-96ef-fbbd7a9ab937",
   "metadata": {},
   "outputs": [],
   "source": [
    "import pandas as pd"
   ]
  },
  {
   "cell_type": "code",
   "execution_count": 5,
   "id": "613731e8-b4d4-4048-8f24-eb294a34714c",
   "metadata": {},
   "outputs": [],
   "source": [
    "dataset = pd.read_csv('data/fitness_churn.csv')"
   ]
  },
  {
   "cell_type": "code",
   "execution_count": 8,
   "id": "848cdc2d-9e76-4431-ae9c-e2c9bb986eb8",
   "metadata": {},
   "outputs": [],
   "source": [
    "dataset_new = dataset.drop('program', axis=1)"
   ]
  },
  {
   "cell_type": "code",
   "execution_count": 11,
   "id": "008af0fd-92c9-4fba-bbb7-a7a67885f709",
   "metadata": {},
   "outputs": [],
   "source": [
    "dataset_new.to_csv('fitness_churn.csv',index=False)"
   ]
  },
  {
   "cell_type": "code",
   "execution_count": null,
   "id": "650a533f-320b-49e4-bb58-dfea835f179b",
   "metadata": {},
   "outputs": [],
   "source": []
  }
 ],
 "metadata": {
  "kernelspec": {
   "display_name": "Python 3 (ipykernel)",
   "language": "python",
   "name": "python3"
  },
  "language_info": {
   "codemirror_mode": {
    "name": "ipython",
    "version": 3
   },
   "file_extension": ".py",
   "mimetype": "text/x-python",
   "name": "python",
   "nbconvert_exporter": "python",
   "pygments_lexer": "ipython3",
   "version": "3.11.2"
  }
 },
 "nbformat": 4,
 "nbformat_minor": 5
}
